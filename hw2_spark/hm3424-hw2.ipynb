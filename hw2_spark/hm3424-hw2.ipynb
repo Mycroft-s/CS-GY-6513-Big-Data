{
 "cells": [
  {
   "cell_type": "code",
   "execution_count": 18,
   "id": "e8ea4279-c96c-4835-ba85-93b53c763321",
   "metadata": {},
   "outputs": [
    {
     "ename": "ConnectionRefusedError",
     "evalue": "[Errno 111] Connection refused",
     "output_type": "error",
     "traceback": [
      "\u001b[0;31m---------------------------------------------------------------------------\u001b[0m",
      "\u001b[0;31mConnectionRefusedError\u001b[0m                    Traceback (most recent call last)",
      "Cell \u001b[0;32mIn[18], line 8\u001b[0m\n\u001b[1;32m      3\u001b[0m \u001b[38;5;28;01mfrom\u001b[39;00m\u001b[38;5;250m \u001b[39m\u001b[38;5;21;01mpyspark\u001b[39;00m\u001b[38;5;21;01m.\u001b[39;00m\u001b[38;5;21;01msql\u001b[39;00m\u001b[38;5;21;01m.\u001b[39;00m\u001b[38;5;21;01mfunctions\u001b[39;00m\u001b[38;5;250m \u001b[39m\u001b[38;5;28;01mimport\u001b[39;00m (\n\u001b[1;32m      4\u001b[0m     col, hour, date_format, concat_ws, to_timestamp, count, row_number\n\u001b[1;32m      5\u001b[0m )\n\u001b[1;32m      6\u001b[0m \u001b[38;5;28;01mfrom\u001b[39;00m\u001b[38;5;250m \u001b[39m\u001b[38;5;21;01mpyspark\u001b[39;00m\u001b[38;5;21;01m.\u001b[39;00m\u001b[38;5;21;01msql\u001b[39;00m\u001b[38;5;21;01m.\u001b[39;00m\u001b[38;5;21;01mwindow\u001b[39;00m\u001b[38;5;250m \u001b[39m\u001b[38;5;28;01mimport\u001b[39;00m Window\n\u001b[0;32m----> 8\u001b[0m spark \u001b[38;5;241m=\u001b[39m \u001b[43mSparkSession\u001b[49m\u001b[38;5;241;43m.\u001b[39;49m\u001b[43mbuilder\u001b[49m\u001b[38;5;241;43m.\u001b[39;49m\u001b[43mappName\u001b[49m\u001b[43m(\u001b[49m\u001b[38;5;124;43m\"\u001b[39;49m\u001b[38;5;124;43mHW2-Q1\u001b[39;49m\u001b[38;5;124;43m\"\u001b[39;49m\u001b[43m)\u001b[49m\u001b[38;5;241;43m.\u001b[39;49m\u001b[43mgetOrCreate\u001b[49m\u001b[43m(\u001b[49m\u001b[43m)\u001b[49m\n",
      "File \u001b[0;32m/opt/conda/envs/bigdata/lib/python3.12/site-packages/pyspark/sql/session.py:503\u001b[0m, in \u001b[0;36mSparkSession.Builder.getOrCreate\u001b[0;34m(self)\u001b[0m\n\u001b[1;32m    500\u001b[0m     session \u001b[38;5;241m=\u001b[39m SparkSession(sc, options\u001b[38;5;241m=\u001b[39m\u001b[38;5;28mself\u001b[39m\u001b[38;5;241m.\u001b[39m_options)\n\u001b[1;32m    501\u001b[0m \u001b[38;5;28;01melse\u001b[39;00m:\n\u001b[1;32m    502\u001b[0m     \u001b[38;5;28mgetattr\u001b[39m(\n\u001b[0;32m--> 503\u001b[0m         \u001b[38;5;28;43mgetattr\u001b[39;49m\u001b[43m(\u001b[49m\u001b[43msession\u001b[49m\u001b[38;5;241;43m.\u001b[39;49m\u001b[43m_jvm\u001b[49m\u001b[43m,\u001b[49m\u001b[43m \u001b[49m\u001b[38;5;124;43m\"\u001b[39;49m\u001b[38;5;124;43mSparkSession$\u001b[39;49m\u001b[38;5;124;43m\"\u001b[39;49m\u001b[43m)\u001b[49m, \u001b[38;5;124m\"\u001b[39m\u001b[38;5;124mMODULE$\u001b[39m\u001b[38;5;124m\"\u001b[39m\n\u001b[1;32m    504\u001b[0m     )\u001b[38;5;241m.\u001b[39mapplyModifiableSettings(session\u001b[38;5;241m.\u001b[39m_jsparkSession, \u001b[38;5;28mself\u001b[39m\u001b[38;5;241m.\u001b[39m_options)\n\u001b[1;32m    505\u001b[0m \u001b[38;5;28;01mreturn\u001b[39;00m session\n",
      "File \u001b[0;32m/opt/conda/envs/bigdata/lib/python3.12/site-packages/py4j/java_gateway.py:1712\u001b[0m, in \u001b[0;36mJVMView.__getattr__\u001b[0;34m(self, name)\u001b[0m\n\u001b[1;32m   1709\u001b[0m \u001b[38;5;28;01mif\u001b[39;00m name \u001b[38;5;241m==\u001b[39m UserHelpAutoCompletion\u001b[38;5;241m.\u001b[39mKEY:\n\u001b[1;32m   1710\u001b[0m     \u001b[38;5;28;01mreturn\u001b[39;00m UserHelpAutoCompletion()\n\u001b[0;32m-> 1712\u001b[0m answer \u001b[38;5;241m=\u001b[39m \u001b[38;5;28;43mself\u001b[39;49m\u001b[38;5;241;43m.\u001b[39;49m\u001b[43m_gateway_client\u001b[49m\u001b[38;5;241;43m.\u001b[39;49m\u001b[43msend_command\u001b[49m\u001b[43m(\u001b[49m\n\u001b[1;32m   1713\u001b[0m \u001b[43m    \u001b[49m\u001b[43mproto\u001b[49m\u001b[38;5;241;43m.\u001b[39;49m\u001b[43mREFLECTION_COMMAND_NAME\u001b[49m\u001b[43m \u001b[49m\u001b[38;5;241;43m+\u001b[39;49m\n\u001b[1;32m   1714\u001b[0m \u001b[43m    \u001b[49m\u001b[43mproto\u001b[49m\u001b[38;5;241;43m.\u001b[39;49m\u001b[43mREFL_GET_UNKNOWN_SUB_COMMAND_NAME\u001b[49m\u001b[43m \u001b[49m\u001b[38;5;241;43m+\u001b[39;49m\u001b[43m \u001b[49m\u001b[43mname\u001b[49m\u001b[43m \u001b[49m\u001b[38;5;241;43m+\u001b[39;49m\u001b[43m \u001b[49m\u001b[38;5;124;43m\"\u001b[39;49m\u001b[38;5;130;43;01m\\n\u001b[39;49;00m\u001b[38;5;124;43m\"\u001b[39;49m\u001b[43m \u001b[49m\u001b[38;5;241;43m+\u001b[39;49m\u001b[43m \u001b[49m\u001b[38;5;28;43mself\u001b[39;49m\u001b[38;5;241;43m.\u001b[39;49m\u001b[43m_id\u001b[49m\u001b[43m \u001b[49m\u001b[38;5;241;43m+\u001b[39;49m\n\u001b[1;32m   1715\u001b[0m \u001b[43m    \u001b[49m\u001b[38;5;124;43m\"\u001b[39;49m\u001b[38;5;130;43;01m\\n\u001b[39;49;00m\u001b[38;5;124;43m\"\u001b[39;49m\u001b[43m \u001b[49m\u001b[38;5;241;43m+\u001b[39;49m\u001b[43m \u001b[49m\u001b[43mproto\u001b[49m\u001b[38;5;241;43m.\u001b[39;49m\u001b[43mEND_COMMAND_PART\u001b[49m\u001b[43m)\u001b[49m\n\u001b[1;32m   1716\u001b[0m \u001b[38;5;28;01mif\u001b[39;00m answer \u001b[38;5;241m==\u001b[39m proto\u001b[38;5;241m.\u001b[39mSUCCESS_PACKAGE:\n\u001b[1;32m   1717\u001b[0m     \u001b[38;5;28;01mreturn\u001b[39;00m JavaPackage(name, \u001b[38;5;28mself\u001b[39m\u001b[38;5;241m.\u001b[39m_gateway_client, jvm_id\u001b[38;5;241m=\u001b[39m\u001b[38;5;28mself\u001b[39m\u001b[38;5;241m.\u001b[39m_id)\n",
      "File \u001b[0;32m/opt/conda/envs/bigdata/lib/python3.12/site-packages/py4j/java_gateway.py:1036\u001b[0m, in \u001b[0;36mGatewayClient.send_command\u001b[0;34m(self, command, retry, binary)\u001b[0m\n\u001b[1;32m   1015\u001b[0m \u001b[38;5;28;01mdef\u001b[39;00m\u001b[38;5;250m \u001b[39m\u001b[38;5;21msend_command\u001b[39m(\u001b[38;5;28mself\u001b[39m, command, retry\u001b[38;5;241m=\u001b[39m\u001b[38;5;28;01mTrue\u001b[39;00m, binary\u001b[38;5;241m=\u001b[39m\u001b[38;5;28;01mFalse\u001b[39;00m):\n\u001b[1;32m   1016\u001b[0m \u001b[38;5;250m    \u001b[39m\u001b[38;5;124;03m\"\"\"Sends a command to the JVM. This method is not intended to be\u001b[39;00m\n\u001b[1;32m   1017\u001b[0m \u001b[38;5;124;03m       called directly by Py4J users. It is usually called by\u001b[39;00m\n\u001b[1;32m   1018\u001b[0m \u001b[38;5;124;03m       :class:`JavaMember` instances.\u001b[39;00m\n\u001b[0;32m   (...)\u001b[0m\n\u001b[1;32m   1034\u001b[0m \u001b[38;5;124;03m     if `binary` is `True`.\u001b[39;00m\n\u001b[1;32m   1035\u001b[0m \u001b[38;5;124;03m    \"\"\"\u001b[39;00m\n\u001b[0;32m-> 1036\u001b[0m     connection \u001b[38;5;241m=\u001b[39m \u001b[38;5;28;43mself\u001b[39;49m\u001b[38;5;241;43m.\u001b[39;49m\u001b[43m_get_connection\u001b[49m\u001b[43m(\u001b[49m\u001b[43m)\u001b[49m\n\u001b[1;32m   1037\u001b[0m     \u001b[38;5;28;01mtry\u001b[39;00m:\n\u001b[1;32m   1038\u001b[0m         response \u001b[38;5;241m=\u001b[39m connection\u001b[38;5;241m.\u001b[39msend_command(command)\n",
      "File \u001b[0;32m/opt/conda/envs/bigdata/lib/python3.12/site-packages/py4j/clientserver.py:284\u001b[0m, in \u001b[0;36mJavaClient._get_connection\u001b[0;34m(self)\u001b[0m\n\u001b[1;32m    281\u001b[0m     \u001b[38;5;28;01mpass\u001b[39;00m\n\u001b[1;32m    283\u001b[0m \u001b[38;5;28;01mif\u001b[39;00m connection \u001b[38;5;129;01mis\u001b[39;00m \u001b[38;5;28;01mNone\u001b[39;00m \u001b[38;5;129;01mor\u001b[39;00m connection\u001b[38;5;241m.\u001b[39msocket \u001b[38;5;129;01mis\u001b[39;00m \u001b[38;5;28;01mNone\u001b[39;00m:\n\u001b[0;32m--> 284\u001b[0m     connection \u001b[38;5;241m=\u001b[39m \u001b[38;5;28;43mself\u001b[39;49m\u001b[38;5;241;43m.\u001b[39;49m\u001b[43m_create_new_connection\u001b[49m\u001b[43m(\u001b[49m\u001b[43m)\u001b[49m\n\u001b[1;32m    285\u001b[0m \u001b[38;5;28;01mreturn\u001b[39;00m connection\n",
      "File \u001b[0;32m/opt/conda/envs/bigdata/lib/python3.12/site-packages/py4j/clientserver.py:291\u001b[0m, in \u001b[0;36mJavaClient._create_new_connection\u001b[0;34m(self)\u001b[0m\n\u001b[1;32m    287\u001b[0m \u001b[38;5;28;01mdef\u001b[39;00m\u001b[38;5;250m \u001b[39m\u001b[38;5;21m_create_new_connection\u001b[39m(\u001b[38;5;28mself\u001b[39m):\n\u001b[1;32m    288\u001b[0m     connection \u001b[38;5;241m=\u001b[39m ClientServerConnection(\n\u001b[1;32m    289\u001b[0m         \u001b[38;5;28mself\u001b[39m\u001b[38;5;241m.\u001b[39mjava_parameters, \u001b[38;5;28mself\u001b[39m\u001b[38;5;241m.\u001b[39mpython_parameters,\n\u001b[1;32m    290\u001b[0m         \u001b[38;5;28mself\u001b[39m\u001b[38;5;241m.\u001b[39mgateway_property, \u001b[38;5;28mself\u001b[39m)\n\u001b[0;32m--> 291\u001b[0m     \u001b[43mconnection\u001b[49m\u001b[38;5;241;43m.\u001b[39;49m\u001b[43mconnect_to_java_server\u001b[49m\u001b[43m(\u001b[49m\u001b[43m)\u001b[49m\n\u001b[1;32m    292\u001b[0m     \u001b[38;5;28mself\u001b[39m\u001b[38;5;241m.\u001b[39mset_thread_connection(connection)\n\u001b[1;32m    293\u001b[0m     \u001b[38;5;28;01mreturn\u001b[39;00m connection\n",
      "File \u001b[0;32m/opt/conda/envs/bigdata/lib/python3.12/site-packages/py4j/clientserver.py:438\u001b[0m, in \u001b[0;36mClientServerConnection.connect_to_java_server\u001b[0;34m(self)\u001b[0m\n\u001b[1;32m    435\u001b[0m \u001b[38;5;28;01mif\u001b[39;00m \u001b[38;5;28mself\u001b[39m\u001b[38;5;241m.\u001b[39mssl_context:\n\u001b[1;32m    436\u001b[0m     \u001b[38;5;28mself\u001b[39m\u001b[38;5;241m.\u001b[39msocket \u001b[38;5;241m=\u001b[39m \u001b[38;5;28mself\u001b[39m\u001b[38;5;241m.\u001b[39mssl_context\u001b[38;5;241m.\u001b[39mwrap_socket(\n\u001b[1;32m    437\u001b[0m         \u001b[38;5;28mself\u001b[39m\u001b[38;5;241m.\u001b[39msocket, server_hostname\u001b[38;5;241m=\u001b[39m\u001b[38;5;28mself\u001b[39m\u001b[38;5;241m.\u001b[39mjava_address)\n\u001b[0;32m--> 438\u001b[0m \u001b[38;5;28;43mself\u001b[39;49m\u001b[38;5;241;43m.\u001b[39;49m\u001b[43msocket\u001b[49m\u001b[38;5;241;43m.\u001b[39;49m\u001b[43mconnect\u001b[49m\u001b[43m(\u001b[49m\u001b[43m(\u001b[49m\u001b[38;5;28;43mself\u001b[39;49m\u001b[38;5;241;43m.\u001b[39;49m\u001b[43mjava_address\u001b[49m\u001b[43m,\u001b[49m\u001b[43m \u001b[49m\u001b[38;5;28;43mself\u001b[39;49m\u001b[38;5;241;43m.\u001b[39;49m\u001b[43mjava_port\u001b[49m\u001b[43m)\u001b[49m\u001b[43m)\u001b[49m\n\u001b[1;32m    439\u001b[0m \u001b[38;5;28mself\u001b[39m\u001b[38;5;241m.\u001b[39mstream \u001b[38;5;241m=\u001b[39m \u001b[38;5;28mself\u001b[39m\u001b[38;5;241m.\u001b[39msocket\u001b[38;5;241m.\u001b[39mmakefile(\u001b[38;5;124m\"\u001b[39m\u001b[38;5;124mrb\u001b[39m\u001b[38;5;124m\"\u001b[39m)\n\u001b[1;32m    440\u001b[0m \u001b[38;5;28mself\u001b[39m\u001b[38;5;241m.\u001b[39mis_connected \u001b[38;5;241m=\u001b[39m \u001b[38;5;28;01mTrue\u001b[39;00m\n",
      "\u001b[0;31mConnectionRefusedError\u001b[0m: [Errno 111] Connection refused"
     ]
    }
   ],
   "source": [
    "#Question1\n",
    "from pyspark.sql import SparkSession\n",
    "from pyspark.sql.functions import (\n",
    "    col, hour, date_format, concat_ws, to_timestamp, count, row_number\n",
    ")\n",
    "from pyspark.sql.window import Window\n",
    "\n",
    "spark = SparkSession.builder.appName(\"HW2-Q1\").getOrCreate()\n"
   ]
  },
  {
   "cell_type": "code",
   "execution_count": 26,
   "id": "260cf685-40b9-470e-9454-d4cc4ba8ceec",
   "metadata": {},
   "outputs": [
    {
     "name": "stderr",
     "output_type": "stream",
     "text": [
      "                                                                                \r"
     ]
    },
    {
     "name": "stdout",
     "output_type": "stream",
     "text": [
      "+----------+-------------------+-----------+-------------+\n",
      "|      Date|               Time|Transaction|         Item|\n",
      "+----------+-------------------+-----------+-------------+\n",
      "|2016-10-30|2025-03-22 09:58:11|          1|        Bread|\n",
      "|2016-10-30|2025-03-22 10:05:34|          2| Scandinavian|\n",
      "|2016-10-30|2025-03-22 10:05:34|          2| Scandinavian|\n",
      "|2016-10-30|2025-03-22 10:07:57|          3|Hot chocolate|\n",
      "|2016-10-30|2025-03-22 10:07:57|          3|          Jam|\n",
      "+----------+-------------------+-----------+-------------+\n",
      "only showing top 5 rows\n",
      "\n",
      "root\n",
      " |-- Date: date (nullable = true)\n",
      " |-- Time: timestamp (nullable = true)\n",
      " |-- Transaction: integer (nullable = true)\n",
      " |-- Item: string (nullable = true)\n",
      "\n"
     ]
    }
   ],
   "source": [
    "# read CSV file\n",
    "bakery = spark.read.csv(\"shared/hw2/Bakery.csv\", header=True, inferSchema=True)\n",
    "\n",
    "# check\n",
    "bakery.show(5)\n",
    "bakery.printSchema()\n",
    "\n"
   ]
  },
  {
   "cell_type": "code",
   "execution_count": 27,
   "id": "2fb31811-37c1-4368-ad34-61205c2b9da3",
   "metadata": {},
   "outputs": [
    {
     "name": "stdout",
     "output_type": "stream",
     "text": [
      "+----------+-------------------+-----------+-------------+-------------------+\n",
      "|      Date|               Time|Transaction|         Item|           DateTime|\n",
      "+----------+-------------------+-----------+-------------+-------------------+\n",
      "|2016-10-30|2025-03-22 09:58:11|          1|        Bread|2025-03-22 09:58:11|\n",
      "|2016-10-30|2025-03-22 10:05:34|          2| Scandinavian|2025-03-22 10:05:34|\n",
      "|2016-10-30|2025-03-22 10:05:34|          2| Scandinavian|2025-03-22 10:05:34|\n",
      "|2016-10-30|2025-03-22 10:07:57|          3|Hot chocolate|2025-03-22 10:07:57|\n",
      "|2016-10-30|2025-03-22 10:07:57|          3|          Jam|2025-03-22 10:07:57|\n",
      "+----------+-------------------+-----------+-------------+-------------------+\n",
      "only showing top 5 rows\n",
      "\n",
      "root\n",
      " |-- Date: date (nullable = true)\n",
      " |-- Time: timestamp (nullable = true)\n",
      " |-- Transaction: integer (nullable = true)\n",
      " |-- Item: string (nullable = true)\n",
      " |-- DateTime: timestamp (nullable = true)\n",
      "\n"
     ]
    }
   ],
   "source": [
    "bakery = bakery.withColumn(\n",
    "    \"DateTime\",\n",
    "    to_timestamp(col(\"Time\"), \"yyyy-MM-dd HH:mm:ss\")\n",
    ")\n",
    "\n",
    "#check\n",
    "bakery.show(5)\n",
    "bakery.printSchema()\n"
   ]
  },
  {
   "cell_type": "code",
   "execution_count": 28,
   "id": "6d066a89-d174-4af0-90b7-75081463822c",
   "metadata": {},
   "outputs": [
    {
     "name": "stdout",
     "output_type": "stream",
     "text": [
      "+----------+-------------------+-----------+-------+-------------------+\n",
      "|      Date|               Time|Transaction|   Item|           DateTime|\n",
      "+----------+-------------------+-----------+-------+-------------------+\n",
      "|2016-10-30|2025-03-22 09:58:11|          1|  Bread|2025-03-22 09:58:11|\n",
      "|2016-10-31|2025-03-22 08:28:31|         81| Coffee|2025-03-22 08:28:31|\n",
      "|2016-10-31|2025-03-22 08:28:31|         81|   Cake|2025-03-22 08:28:31|\n",
      "|2016-10-31|2025-03-22 08:47:05|         82|Tartine|2025-03-22 08:47:05|\n",
      "|2016-10-31|2025-03-22 08:47:05|         82|   NONE|2025-03-22 08:47:05|\n",
      "+----------+-------------------+-----------+-------+-------------------+\n",
      "only showing top 5 rows\n",
      "\n"
     ]
    }
   ],
   "source": [
    "filtered = bakery.filter(\n",
    "    (hour(col(\"DateTime\")) >= 6) & \n",
    "    (hour(col(\"DateTime\")) < 10)\n",
    ")\n",
    "\n",
    "filtered.show(5)\n"
   ]
  },
  {
   "cell_type": "code",
   "execution_count": 17,
   "id": "c16e3ca0-a9a5-4274-be3c-6b90e57ea324",
   "metadata": {},
   "outputs": [
    {
     "ename": "NameError",
     "evalue": "name 'filtered' is not defined",
     "output_type": "error",
     "traceback": [
      "\u001b[0;31m---------------------------------------------------------------------------\u001b[0m",
      "\u001b[0;31mNameError\u001b[0m                                 Traceback (most recent call last)",
      "Cell \u001b[0;32mIn[17], line 2\u001b[0m\n\u001b[1;32m      1\u001b[0m \u001b[38;5;66;03m# Day of extraction\u001b[39;00m\n\u001b[0;32m----> 2\u001b[0m filtered_with_day \u001b[38;5;241m=\u001b[39m \u001b[43mfiltered\u001b[49m\u001b[38;5;241m.\u001b[39mwithColumn(\n\u001b[1;32m      3\u001b[0m     \u001b[38;5;124m\"\u001b[39m\u001b[38;5;124mDay\u001b[39m\u001b[38;5;124m\"\u001b[39m,\n\u001b[1;32m      4\u001b[0m     date_format(col(\u001b[38;5;124m\"\u001b[39m\u001b[38;5;124mDateTime\u001b[39m\u001b[38;5;124m\"\u001b[39m), \u001b[38;5;124m\"\u001b[39m\u001b[38;5;124mEEEE\u001b[39m\u001b[38;5;124m\"\u001b[39m)  \n\u001b[1;32m      5\u001b[0m )\n\u001b[1;32m      7\u001b[0m \u001b[38;5;66;03m# Group by Day and Item and count the quantity\u001b[39;00m\n\u001b[1;32m      8\u001b[0m grouped \u001b[38;5;241m=\u001b[39m filtered_with_day\u001b[38;5;241m.\u001b[39mgroupBy(\u001b[38;5;124m\"\u001b[39m\u001b[38;5;124mDay\u001b[39m\u001b[38;5;124m\"\u001b[39m, \u001b[38;5;124m\"\u001b[39m\u001b[38;5;124mItem\u001b[39m\u001b[38;5;124m\"\u001b[39m)\u001b[38;5;241m.\u001b[39magg(count(\u001b[38;5;124m\"\u001b[39m\u001b[38;5;124m*\u001b[39m\u001b[38;5;124m\"\u001b[39m)\u001b[38;5;241m.\u001b[39malias(\u001b[38;5;124m\"\u001b[39m\u001b[38;5;124mQty\u001b[39m\u001b[38;5;124m\"\u001b[39m))\n",
      "\u001b[0;31mNameError\u001b[0m: name 'filtered' is not defined"
     ]
    }
   ],
   "source": [
    "# Day of extraction\n",
    "filtered_with_day = filtered.withColumn(\n",
    "    \"Day\",\n",
    "    date_format(col(\"DateTime\"), \"EEEE\")  \n",
    ")\n",
    "\n",
    "# Group by Day and Item and count the quantity\n",
    "grouped = filtered_with_day.groupBy(\"Day\", \"Item\").agg(count(\"*\").alias(\"Qty\"))\n",
    "\n",
    "window_spec = Window.partitionBy(\"Day\").orderBy(col(\"Qty\").desc())\n",
    "\n",
    "# rank\n",
    "ranked = grouped.withColumn(\"rank\", row_number().over(window_spec))\n",
    "\n",
    "# top10\n",
    "top10 = ranked.filter(col(\"rank\") <= 10).drop(\"rank\")\n"
   ]
  },
  {
   "cell_type": "code",
   "execution_count": 30,
   "id": "5cf7bb0d-c121-455c-9c83-1fb16051ba65",
   "metadata": {},
   "outputs": [
    {
     "name": "stdout",
     "output_type": "stream",
     "text": [
      "+-------------+--------+---+\n",
      "|Item         |Day     |Qty|\n",
      "+-------------+--------+---+\n",
      "|Coffee       |Saturday|795|\n",
      "|Bread        |Saturday|573|\n",
      "|Pastry       |Saturday|250|\n",
      "|Medialuna    |Saturday|169|\n",
      "|Tea          |Saturday|124|\n",
      "|NONE         |Saturday|104|\n",
      "|Toast        |Saturday|88 |\n",
      "|Farm House   |Saturday|77 |\n",
      "|Hot chocolate|Saturday|65 |\n",
      "|Cookies      |Saturday|51 |\n",
      "+-------------+--------+---+\n",
      "\n"
     ]
    }
   ],
   "source": [
    "result = top10.orderBy(\"Day\", col(\"Qty\").desc())\n",
    "final_result = top10.orderBy(\"Day\", col(\"Qty\").desc()).select(\"Item\", \"Day\", \"Qty\")\n",
    "final_result.show(50, truncate=False)\n",
    "\n"
   ]
  },
  {
   "cell_type": "code",
   "execution_count": 38,
   "id": "a6c8565f-a1ab-4a7f-8ced-9447ffd54f7d",
   "metadata": {},
   "outputs": [
    {
     "name": "stdout",
     "output_type": "stream",
     "text": [
      "+----------+-------------------+-----------+-------------+-------------------+\n",
      "|      Date|               Time|Transaction|         Item|           DateTime|\n",
      "+----------+-------------------+-----------+-------------+-------------------+\n",
      "|2016-10-30|2025-03-22 09:58:11|          1|        Bread|2025-03-22 09:58:11|\n",
      "|2016-10-30|2025-03-22 10:05:34|          2| Scandinavian|2025-03-22 10:05:34|\n",
      "|2016-10-30|2025-03-22 10:05:34|          2| Scandinavian|2025-03-22 10:05:34|\n",
      "|2016-10-30|2025-03-22 10:07:57|          3|Hot chocolate|2025-03-22 10:07:57|\n",
      "|2016-10-30|2025-03-22 10:07:57|          3|          Jam|2025-03-22 10:07:57|\n",
      "+----------+-------------------+-----------+-------------+-------------------+\n",
      "only showing top 5 rows\n",
      "\n",
      "root\n",
      " |-- Date: date (nullable = true)\n",
      " |-- Time: timestamp (nullable = true)\n",
      " |-- Transaction: integer (nullable = true)\n",
      " |-- Item: string (nullable = true)\n",
      " |-- DateTime: timestamp (nullable = true)\n",
      "\n"
     ]
    }
   ],
   "source": [
    "#Question2\n",
    "from pyspark.sql import SparkSession\n",
    "from pyspark.sql.functions import (\n",
    "    col, hour, to_timestamp, when, collect_list,\n",
    "    explode, count, row_number, concat, lit\n",
    ")\n",
    "from pyspark.sql.window import Window\n",
    "\n",
    "spark2 = SparkSession.builder.appName(\"HW2-Q2\").getOrCreate()\n",
    "\n",
    "bakery = spark2.read.csv(\"shared/hw2/Bakery.csv\", header=True, inferSchema=True)\n",
    "\n",
    "\n",
    "bakery = bakery.withColumn(\n",
    "    \"DateTime\",\n",
    "    to_timestamp(col(\"Time\"), \"yyyy-MM-dd HH:mm:ss\")\n",
    ")\n",
    "\n",
    "\n",
    "bakery.show(5)\n",
    "bakery.printSchema()\n"
   ]
  },
  {
   "cell_type": "code",
   "execution_count": 39,
   "id": "74eb5e53-2b73-4540-a98d-420488a29bfd",
   "metadata": {},
   "outputs": [
    {
     "name": "stdout",
     "output_type": "stream",
     "text": [
      "+----------+-------------------+-----------+-------------+-------------------+-------+\n",
      "|      Date|               Time|Transaction|         Item|           DateTime|Daypart|\n",
      "+----------+-------------------+-----------+-------------+-------------------+-------+\n",
      "|2016-10-30|2025-03-22 09:58:11|          1|        Bread|2025-03-22 09:58:11|morning|\n",
      "|2016-10-30|2025-03-22 10:05:34|          2| Scandinavian|2025-03-22 10:05:34|morning|\n",
      "|2016-10-30|2025-03-22 10:05:34|          2| Scandinavian|2025-03-22 10:05:34|morning|\n",
      "|2016-10-30|2025-03-22 10:07:57|          3|Hot chocolate|2025-03-22 10:07:57|morning|\n",
      "|2016-10-30|2025-03-22 10:07:57|          3|          Jam|2025-03-22 10:07:57|morning|\n",
      "+----------+-------------------+-----------+-------------+-------------------+-------+\n",
      "only showing top 5 rows\n",
      "\n"
     ]
    }
   ],
   "source": [
    "bakery = bakery.withColumn(\n",
    "    \"Daypart\",\n",
    "    when((hour(col(\"DateTime\")) >= 6) & (hour(col(\"DateTime\")) <= 10), \"morning\")\n",
    "    .when((hour(col(\"DateTime\")) >= 11) & (hour(col(\"DateTime\")) <= 15), \"midday\")\n",
    "    .otherwise(\"evening\")\n",
    ")\n",
    "bakery.show(5)"
   ]
  },
  {
   "cell_type": "code",
   "execution_count": 40,
   "id": "fafd2447-5a83-47e0-a035-a27b1186a121",
   "metadata": {},
   "outputs": [
    {
     "name": "stdout",
     "output_type": "stream",
     "text": [
      "+-----------+-------+-----------------------------+\n",
      "|Transaction|Daypart|Items                        |\n",
      "+-----------+-------+-----------------------------+\n",
      "|1          |morning|[Bread]                      |\n",
      "|2          |morning|[Scandinavian, Scandinavian] |\n",
      "|3          |morning|[Hot chocolate, Jam, Cookies]|\n",
      "|4          |morning|[Muffin]                     |\n",
      "|5          |morning|[Coffee, Pastry, Bread]      |\n",
      "+-----------+-------+-----------------------------+\n",
      "only showing top 5 rows\n",
      "\n"
     ]
    },
    {
     "name": "stderr",
     "output_type": "stream",
     "text": [
      "                                                                                \r"
     ]
    }
   ],
   "source": [
    "from pyspark.sql.functions import collect_list\n",
    "\n",
    "items_by_tx = bakery.groupBy(\"Transaction\", \"Daypart\") \\\n",
    "    .agg(collect_list(\"Item\").alias(\"Items\"))\n",
    "\n",
    "items_by_tx.show(5, truncate=False)\n"
   ]
  },
  {
   "cell_type": "code",
   "execution_count": 41,
   "id": "eea98d9c-6fce-4aef-b61f-116ac53acc77",
   "metadata": {},
   "outputs": [
    {
     "name": "stdout",
     "output_type": "stream",
     "text": [
      "+-----------+-------+-------------+-------------+\n",
      "|Transaction|Daypart|Item1        |Item2        |\n",
      "+-----------+-------+-------------+-------------+\n",
      "|3          |morning|Hot chocolate|Jam          |\n",
      "|3          |morning|Cookies      |Jam          |\n",
      "|3          |morning|Cookies      |Hot chocolate|\n",
      "|5          |morning|Coffee       |Pastry       |\n",
      "|5          |morning|Bread        |Pastry       |\n",
      "+-----------+-------+-------------+-------------+\n",
      "only showing top 5 rows\n",
      "\n",
      "+-------+-----------------+-----------------+---+\n",
      "|Daypart|Item1            |Item2            |Qty|\n",
      "+-------+-----------------+-----------------+---+\n",
      "|midday |Frittata         |Hearty & Seasonal|2  |\n",
      "|midday |Hearty & Seasonal|Smoothies        |6  |\n",
      "|midday |Art Tray         |Bacon            |1  |\n",
      "|midday |Farm House       |Fudge            |2  |\n",
      "|midday |Juice            |Vegan mincepie   |1  |\n",
      "+-------+-----------------+-----------------+---+\n",
      "only showing top 5 rows\n",
      "\n"
     ]
    },
    {
     "name": "stderr",
     "output_type": "stream",
     "text": [
      "                                                                                \r"
     ]
    }
   ],
   "source": [
    "items_exploded_1 = items_by_tx.select(\n",
    "    \"Transaction\",\n",
    "    \"Daypart\",\n",
    "    explode(\"Items\").alias(\"Item1\")\n",
    ")\n",
    "\n",
    "items_exploded_2 = items_by_tx.select(\n",
    "    \"Transaction\",\n",
    "    \"Daypart\",\n",
    "    explode(\"Items\").alias(\"Item2\")\n",
    ")\n",
    "\n",
    "pairs = items_exploded_1.join(\n",
    "    items_exploded_2,\n",
    "    on=[\"Transaction\", \"Daypart\"],  \n",
    "    how=\"inner\"\n",
    ").where(col(\"Item1\") < col(\"Item2\")) \n",
    "pairs.show(5, truncate=False)\n",
    "\n",
    "pairs_count = pairs.groupBy(\"Daypart\", \"Item1\", \"Item2\") \\\n",
    "    .agg(count(\"*\").alias(\"Qty\"))\n",
    "\n",
    "pairs_count.show(5, truncate=False)\n"
   ]
  },
  {
   "cell_type": "code",
   "execution_count": 42,
   "id": "cd31e8fe-2f88-4389-94a9-4cd20d35a16d",
   "metadata": {},
   "outputs": [
    {
     "name": "stdout",
     "output_type": "stream",
     "text": [
      "+-------------------------+\n",
      "|Output                   |\n",
      "+-------------------------+\n",
      "|evening, (Cake, Coffee)  |\n",
      "|midday, (Bread, Coffee)  |\n",
      "|morning, (Coffee, Pastry)|\n",
      "+-------------------------+\n",
      "\n"
     ]
    }
   ],
   "source": [
    "from pyspark.sql.window import Window\n",
    "from pyspark.sql.functions import row_number\n",
    "\n",
    "window_spec = Window.partitionBy(\"Daypart\").orderBy(col(\"Qty\").desc())\n",
    "ranked_pairs = pairs_count.withColumn(\"rn\", row_number().over(window_spec))\n",
    "\n",
    "top_pairs = ranked_pairs.filter(col(\"rn\") == 1).drop(\"rn\")\n",
    "\n",
    "formatted = top_pairs.select(\n",
    "    concat(\n",
    "        col(\"Daypart\"),              # morning\n",
    "        lit(\", (\"), \n",
    "        col(\"Item1\"),               # Bread\n",
    "        lit(\", \"), \n",
    "        col(\"Item2\"),               # Coffee\n",
    "        lit(\")\")\n",
    "    ).alias(\"Output\")\n",
    ")\n",
    "\n",
    "formatted.show(truncate=False)\n"
   ]
  },
  {
   "cell_type": "code",
   "execution_count": 45,
   "id": "886584a1-6767-493b-bab7-3b8c295ffbab",
   "metadata": {},
   "outputs": [],
   "source": [
    "#Question3\n",
    "from pyspark.sql import SparkSession\n",
    "from pyspark.sql.functions import (\n",
    "    col, expr, lag, row_number, when,\n",
    "    max as max_, min as min_, \n",
    "    count, asc, desc\n",
    ")\n",
    "from pyspark.sql.window import Window\n",
    "\n",
    "spark3 = SparkSession.builder.appName(\"Hw2-Q3\").getOrCreate()\n"
   ]
  },
  {
   "cell_type": "code",
   "execution_count": 50,
   "id": "4518362b-f1cf-48a7-b5b1-b6eb2994c4ee",
   "metadata": {},
   "outputs": [
    {
     "name": "stdout",
     "output_type": "stream",
     "text": [
      "+-------------+----+----------+\n",
      "|Country      |Year|Population|\n",
      "+-------------+----+----------+\n",
      "|North America|1980|320.27638 |\n",
      "|North America|1981|324.44694 |\n",
      "|North America|1982|328.62014 |\n",
      "|North America|1983|332.72487 |\n",
      "|North America|1984|336.72143 |\n",
      "+-------------+----+----------+\n",
      "only showing top 5 rows\n",
      "\n",
      "root\n",
      " |-- Country: string (nullable = true)\n",
      " |-- Year: string (nullable = true)\n",
      " |-- Population: double (nullable = true)\n",
      "\n"
     ]
    },
    {
     "name": "stderr",
     "output_type": "stream",
     "text": [
      "25/03/22 03:24:33 WARN CSVHeaderChecker: CSV header does not conform to the schema.\n",
      " Header: , 1980, 1981, 1982, 1983, 1984, 1985, 1986, 1987, 1988, 1989, 1990, 1991, 1992, 1993, 1994, 1995, 1996, 1997, 1998, 1999, 2000, 2001, 2002, 2003, 2004, 2005, 2006, 2007, 2008, 2009, 2010\n",
      " Schema: _c0, 1980, 1981, 1982, 1983, 1984, 1985, 1986, 1987, 1988, 1989, 1990, 1991, 1992, 1993, 1994, 1995, 1996, 1997, 1998, 1999, 2000, 2001, 2002, 2003, 2004, 2005, 2006, 2007, 2008, 2009, 2010\n",
      "Expected: _c0 but found: \n",
      "CSV file: file:///home/jovyan/shared/hw2/populationbycountry19802010millions.csv\n"
     ]
    }
   ],
   "source": [
    "from pyspark.sql.functions import expr, col\n",
    "\n",
    "\n",
    "pop = spark3.read.csv(\n",
    "    \"shared/hw2/populationbycountry19802010millions.csv\",\n",
    "    header=True,\n",
    "    inferSchema=True\n",
    ")\n",
    "\n",
    "\n",
    "current_schema = pop.schema.names\n",
    "if current_schema[0] == \"_c0\":\n",
    "    pop = pop.withColumnRenamed(\"_c0\", \"Country\")\n",
    "\n",
    "\n",
    "years = [str(y) for y in range(1980, 2011)]\n",
    "\n",
    "\n",
    "expr_str = \"stack({0}, {1}) as (Year, Population)\".format(\n",
    "    len(years),\n",
    "    \", \".join([f\"'{year}', `{year}`\" for year in years])\n",
    ")\n",
    "\n",
    "pop_long = pop.select(\n",
    "    \"Country\",\n",
    "    expr(expr_str)\n",
    ")\n",
    "\n",
    "pop_long = pop_long.withColumn(\"Population\", col(\"Population\").cast(\"double\"))\n",
    "\n",
    "pop_long.show(5, truncate=False)\n",
    "pop_long.printSchema()\n"
   ]
  },
  {
   "cell_type": "code",
   "execution_count": 51,
   "id": "d661ef79-51f9-4031-bb14-78d1559127e4",
   "metadata": {},
   "outputs": [
    {
     "name": "stdout",
     "output_type": "stream",
     "text": [
      "+-------+----+----------+\n",
      "|Country|Year|Population|\n",
      "+-------+----+----------+\n",
      "|Bermuda|1980|   0.05473|\n",
      "|Bermuda|1981|   0.05491|\n",
      "|Bermuda|1982|   0.05517|\n",
      "|Bermuda|1983|   0.05551|\n",
      "|Bermuda|1984|   0.05585|\n",
      "+-------+----+----------+\n",
      "only showing top 5 rows\n",
      "\n"
     ]
    },
    {
     "name": "stderr",
     "output_type": "stream",
     "text": [
      "25/03/22 03:27:13 WARN CSVHeaderChecker: CSV header does not conform to the schema.\n",
      " Header: , 1980, 1981, 1982, 1983, 1984, 1985, 1986, 1987, 1988, 1989, 1990, 1991, 1992, 1993, 1994, 1995, 1996, 1997, 1998, 1999, 2000, 2001, 2002, 2003, 2004, 2005, 2006, 2007, 2008, 2009, 2010\n",
      " Schema: _c0, 1980, 1981, 1982, 1983, 1984, 1985, 1986, 1987, 1988, 1989, 1990, 1991, 1992, 1993, 1994, 1995, 1996, 1997, 1998, 1999, 2000, 2001, 2002, 2003, 2004, 2005, 2006, 2007, 2008, 2009, 2010\n",
      "Expected: _c0 but found: \n",
      "CSV file: file:///home/jovyan/shared/hw2/populationbycountry19802010millions.csv\n"
     ]
    }
   ],
   "source": [
    "regions = [\"World\",\"Africa\",\"North America\",\"South America\",\"Asia\",\"Oceania\",\"Europe\"]\n",
    "\n",
    "pop_countries = pop_long.filter(~col(\"Country\").isin(regions))\n",
    "\n",
    "pop_countries.show(5)\n"
   ]
  },
  {
   "cell_type": "code",
   "execution_count": 52,
   "id": "3c53687e-3b5f-451b-a967-c6378a48d2d6",
   "metadata": {},
   "outputs": [
    {
     "name": "stderr",
     "output_type": "stream",
     "text": [
      "25/03/22 03:27:34 WARN CSVHeaderChecker: CSV header does not conform to the schema.\n",
      " Header: , 1980, 1981, 1982, 1983, 1984, 1985, 1986, 1987, 1988, 1989, 1990, 1991, 1992, 1993, 1994, 1995, 1996, 1997, 1998, 1999, 2000, 2001, 2002, 2003, 2004, 2005, 2006, 2007, 2008, 2009, 2010\n",
      " Schema: _c0, 1980, 1981, 1982, 1983, 1984, 1985, 1986, 1987, 1988, 1989, 1990, 1991, 1992, 1993, 1994, 1995, 1996, 1997, 1998, 1999, 2000, 2001, 2002, 2003, 2004, 2005, 2006, 2007, 2008, 2009, 2010\n",
      "Expected: _c0 but found: \n",
      "CSV file: file:///home/jovyan/shared/hw2/populationbycountry19802010millions.csv\n",
      "[Stage 131:>                                                        (0 + 1) / 1]\r"
     ]
    },
    {
     "name": "stdout",
     "output_type": "stream",
     "text": [
      "+-----------+----+----------+--------------+------------------+\n",
      "|    Country|Year|Population|PopulationPrev|           YoYRate|\n",
      "+-----------+----+----------+--------------+------------------+\n",
      "|Afghanistan|1981|  13.67368|       15.0436|-9.106330931425992|\n",
      "|Afghanistan|1982|  12.57743|      13.67368|-8.017227257036874|\n",
      "|Afghanistan|1983|  12.43058|      12.57743| -1.16756761913999|\n",
      "|Afghanistan|1984|  12.75384|      12.43058|2.6005222604254943|\n",
      "|Afghanistan|1985|  13.09371|      12.75384| 2.664844470371272|\n",
      "+-----------+----+----------+--------------+------------------+\n",
      "only showing top 5 rows\n",
      "\n"
     ]
    },
    {
     "name": "stderr",
     "output_type": "stream",
     "text": [
      "                                                                                \r"
     ]
    }
   ],
   "source": [
    "from pyspark.sql.functions import lag, col\n",
    "\n",
    "win = Window.partitionBy(\"Country\").orderBy(col(\"Year\").cast(\"int\"))\n",
    "\n",
    "pop_with_prev = pop_countries \\\n",
    "    .withColumn(\"PopulationPrev\", lag(\"Population\").over(win)) \\\n",
    "    .withColumn(\"YoYRate\", \n",
    "        ((col(\"Population\") - col(\"PopulationPrev\")) / col(\"PopulationPrev\") * 100)\n",
    "    )\n",
    "\n",
    "pop_after_1980 = pop_with_prev.filter(col(\"Year\") > 1980)\n",
    "\n",
    "pop_after_1980.show(5)\n"
   ]
  },
  {
   "cell_type": "code",
   "execution_count": 53,
   "id": "a7986ed7-e348-40b0-af37-55754a9ae909",
   "metadata": {},
   "outputs": [
    {
     "name": "stderr",
     "output_type": "stream",
     "text": [
      "25/03/22 03:27:49 WARN CSVHeaderChecker: CSV header does not conform to the schema.\n",
      " Header: , 1980, 1981, 1982, 1983, 1984, 1985, 1986, 1987, 1988, 1989, 1990, 1991, 1992, 1993, 1994, 1995, 1996, 1997, 1998, 1999, 2000, 2001, 2002, 2003, 2004, 2005, 2006, 2007, 2008, 2009, 2010\n",
      " Schema: _c0, 1980, 1981, 1982, 1983, 1984, 1985, 1986, 1987, 1988, 1989, 1990, 1991, 1992, 1993, 1994, 1995, 1996, 1997, 1998, 1999, 2000, 2001, 2002, 2003, 2004, 2005, 2006, 2007, 2008, 2009, 2010\n",
      "Expected: _c0 but found: \n",
      "CSV file: file:///home/jovyan/shared/hw2/populationbycountry19802010millions.csv\n",
      "[Stage 136:>                                                        (0 + 1) / 1]\r"
     ]
    },
    {
     "name": "stdout",
     "output_type": "stream",
     "text": [
      "+----+---------------------------------+----------+--------------+------------------+\n",
      "|Year|Country                          |Population|PopulationPrev|YoYRate           |\n",
      "+----+---------------------------------+----------+--------------+------------------+\n",
      "|1981|Western Sahara                   |0.13909   |0.12404       |12.133182844243787|\n",
      "|1982|Western Sahara                   |0.15455   |0.13909       |11.115105327485802|\n",
      "|1983|French Guiana                    |0.08      |0.07          |14.285714285714276|\n",
      "|1984|Qatar                            |0.32447   |0.29241       |10.964057316781224|\n",
      "|1985|French Guiana                    |0.09      |0.08          |12.499999999999993|\n",
      "|1986|Qatar                            |0.38726   |0.35603       |8.771732719152874 |\n",
      "|1987|French Guiana                    |0.1       |0.09          |11.111111111111121|\n",
      "|1988|Cayman Islands                   |0.0245    |0.02207       |11.010421386497516|\n",
      "|1989|United Arab Emirates             |1.72206   |1.62275       |6.119858265290403 |\n",
      "|1990|Djibouti                         |0.49919   |0.44245       |12.82404791501865 |\n",
      "|1991|Jordan                           |3.63483   |3.26656       |11.273939557210028|\n",
      "|1992|Kuwait                           |1.41829   |0.95422       |48.63343882962002 |\n",
      "|1993|Afghanistan                      |16.81974  |14.8552       |13.224594754698687|\n",
      "|1994|Afghanistan                      |18.28771  |16.81974      |8.727661664211226 |\n",
      "|1995|Burundi                          |6.16495   |5.74968       |7.222488903730303 |\n",
      "|1996|Rwanda                           |6.54646   |5.47298       |19.61417728550077 |\n",
      "|1997|Falkland Islands (Islas Malvinas)|0.00243   |0.002         |21.499999999999993|\n",
      "|1998|Liberia                          |2.34951   |2.09745       |12.01744976042338 |\n",
      "|1999|Falkland Islands (Islas Malvinas)|0.0028    |0.0026        |7.692307692307695 |\n",
      "|2000|Montserrat                       |0.00395   |0.00338       |16.863905325443792|\n",
      "|2001|Montserrat                       |0.00424   |0.00395       |7.341772151898719 |\n",
      "|2002|Montserrat                       |0.00481   |0.00424       |13.4433962264151  |\n",
      "|2003|Afghanistan                      |24.38858  |23.05074      |5.803891762260126 |\n",
      "|2004|Montserrat                       |0.00496   |0.00449       |10.467706013363028|\n",
      "|2005|Liberia                          |2.93008   |2.79594       |4.7976709085316545|\n",
      "|2006|Jordan                           |5.61722   |5.2454        |7.088496587486171 |\n",
      "|2007|Jordan                           |5.99719   |5.61722       |6.764378108744186 |\n",
      "|2008|Montserrat                       |0.00508   |0.00451       |12.638580931263862|\n",
      "|2009|Liberia                          |3.58339   |3.44037       |4.157111008408977 |\n",
      "|2010|Niger                            |15.87827  |15.30625      |3.737166190281749 |\n",
      "+----+---------------------------------+----------+--------------+------------------+\n",
      "\n"
     ]
    },
    {
     "name": "stderr",
     "output_type": "stream",
     "text": [
      "                                                                                \r"
     ]
    }
   ],
   "source": [
    "from pyspark.sql.functions import row_number\n",
    "\n",
    "win2 = Window.partitionBy(\"Year\").orderBy(col(\"YoYRate\").desc())\n",
    "\n",
    "top_country_by_year = pop_after_1980 \\\n",
    "    .withColumn(\"rank\", row_number().over(win2)) \\\n",
    "    .filter(col(\"rank\") == 1) \\\n",
    "    .drop(\"rank\")\n",
    "\n",
    "top_country_by_year.select(\"Year\", \"Country\", \"Population\", \"PopulationPrev\", \"YoYRate\") \\\n",
    "    .orderBy(\"Year\") \\\n",
    "    .show(30, truncate=False)\n"
   ]
  },
  {
   "cell_type": "code",
   "execution_count": 54,
   "id": "bc2fa830-355f-4a65-b841-1e50663f90ee",
   "metadata": {},
   "outputs": [
    {
     "name": "stdout",
     "output_type": "stream",
     "text": [
      "Year with the highest yoy rate (among yearly champions):\n"
     ]
    },
    {
     "name": "stderr",
     "output_type": "stream",
     "text": [
      "25/03/22 03:28:27 WARN CSVHeaderChecker: CSV header does not conform to the schema.\n",
      " Header: , 1980, 1981, 1982, 1983, 1984, 1985, 1986, 1987, 1988, 1989, 1990, 1991, 1992, 1993, 1994, 1995, 1996, 1997, 1998, 1999, 2000, 2001, 2002, 2003, 2004, 2005, 2006, 2007, 2008, 2009, 2010\n",
      " Schema: _c0, 1980, 1981, 1982, 1983, 1984, 1985, 1986, 1987, 1988, 1989, 1990, 1991, 1992, 1993, 1994, 1995, 1996, 1997, 1998, 1999, 2000, 2001, 2002, 2003, 2004, 2005, 2006, 2007, 2008, 2009, 2010\n",
      "Expected: _c0 but found: \n",
      "CSV file: file:///home/jovyan/shared/hw2/populationbycountry19802010millions.csv\n"
     ]
    },
    {
     "name": "stdout",
     "output_type": "stream",
     "text": [
      "+-------+----+----------+--------------+-----------------+\n",
      "|Country|Year|Population|PopulationPrev|          YoYRate|\n",
      "+-------+----+----------+--------------+-----------------+\n",
      "| Kuwait|1992|   1.41829|       0.95422|48.63343882962002|\n",
      "+-------+----+----------+--------------+-----------------+\n",
      "\n",
      "Year with the lowest yoy rate (among yearly champions):\n"
     ]
    },
    {
     "name": "stderr",
     "output_type": "stream",
     "text": [
      "25/03/22 03:28:29 WARN CSVHeaderChecker: CSV header does not conform to the schema.\n",
      " Header: , 1980, 1981, 1982, 1983, 1984, 1985, 1986, 1987, 1988, 1989, 1990, 1991, 1992, 1993, 1994, 1995, 1996, 1997, 1998, 1999, 2000, 2001, 2002, 2003, 2004, 2005, 2006, 2007, 2008, 2009, 2010\n",
      " Schema: _c0, 1980, 1981, 1982, 1983, 1984, 1985, 1986, 1987, 1988, 1989, 1990, 1991, 1992, 1993, 1994, 1995, 1996, 1997, 1998, 1999, 2000, 2001, 2002, 2003, 2004, 2005, 2006, 2007, 2008, 2009, 2010\n",
      "Expected: _c0 but found: \n",
      "CSV file: file:///home/jovyan/shared/hw2/populationbycountry19802010millions.csv\n"
     ]
    },
    {
     "name": "stdout",
     "output_type": "stream",
     "text": [
      "+-------+----+----------+--------------+-----------------+\n",
      "|Country|Year|Population|PopulationPrev|          YoYRate|\n",
      "+-------+----+----------+--------------+-----------------+\n",
      "|  Niger|2010|  15.87827|      15.30625|3.737166190281749|\n",
      "+-------+----+----------+--------------+-----------------+\n",
      "\n"
     ]
    }
   ],
   "source": [
    "# Max \n",
    "top_increase = top_country_by_year.orderBy(col(\"YoYRate\").desc()).limit(1)\n",
    "\n",
    "#Min\n",
    "lowest_increase = top_country_by_year.orderBy(col(\"YoYRate\").asc()).limit(1)\n",
    "\n",
    "print(\"Year with the highest yoy rate (among yearly champions):\")\n",
    "top_increase.show()\n",
    "\n",
    "print(\"Year with the lowest yoy rate (among yearly champions):\")\n",
    "lowest_increase.show()\n"
   ]
  },
  {
   "cell_type": "code",
   "execution_count": 3,
   "id": "dd77033e-68be-47d1-a7de-6852d9d1357e",
   "metadata": {},
   "outputs": [],
   "source": [
    "#Question4\n",
    "from pyspark.sql import SparkSession\n",
    "from pyspark.sql.functions import (\n",
    "    col, lower, regexp_replace, split, explode, desc\n",
    ")\n",
    "\n",
    "# 创建 SparkSession\n",
    "spark4 = SparkSession.builder.appName(\"WordCount\").getOrCreate()\n"
   ]
  },
  {
   "cell_type": "code",
   "execution_count": 4,
   "id": "8ee401d6-29fd-4a47-b137-13ce2de025ee",
   "metadata": {},
   "outputs": [
    {
     "name": "stderr",
     "output_type": "stream",
     "text": [
      "                                                                                \r"
     ]
    },
    {
     "name": "stdout",
     "output_type": "stream",
     "text": [
      "+-----------------------------------------------------------------------------------------------------------------------------------------------------------------------------------------------------------------------------------------------------------------------------------------------------------------------------------------------------------------------------------------------------------------------------------------------------------------------------------------------------------------------------------------------------------------------------------------------------------------------------------------------------------------------------------------------------------------------------------------------------------------------------------------------------------------------------------------------------------------------------------------------------------------------------------------------------------------------------------------------------------------------------------------------------------------------------------------------------------------------------------------------------------------------------------------------------------------------------------------------------------------------------------------------------------------------------------------------------------------------------------------------------------------------------------------------------------------------------------------------------------------------------------------------------------------------------------------------------------------------------------------------------------------------------------------------------------------------------------------------------------------------------------------------------------------------------------------------------------------------------------------------------------------------------------------------------------------------------------------------------------------------------------------------------------------------------------------------------------------------------------------------------------------------------------------------------------------------------------------------------------------------------------------------------------------------------------------------------------------------------------------------------------------------------------------------------------------------------------------------------------------------------------------------------------------------------------------------------------------------------------------------------------------------------------------------------------------------------------------------------------------------------------------------------------------------------------------------------------------------------------------------------------------------------------------------------------------------------------------------------------------------------------------------------------------------------------------------------------------------------------------------------------------------------------------------------------------------------------------------------------------------------------------------------------------------------------------------------------------------------------------------------------------------------------------------------------------------------------------------------------------------------------------------------------------------------------------------------------------------------------------------------------------------------------------------------------------------------------------------------------------------------------------------------------------------------------------------------------------------------------------------------------------------------------------------------------------------------------------------------------------------------------------------------------------------------------------------------------------------------------------------------------------------------------------------------------------------------------------------------------------------------------------------------------------------------------------------------------------------------------------------------------------------------------------------------------------------------------------------------------------------------------------------------------------------------------------------------------------------------------------------------------------------------------------------------------------------------------------------------------------------------------------------------------------------------------------------------------------------------------------------------------------------------------------------------------------------------------------------------------------------------------------------------------------------------------------------------------------------------------------------------------------------------------------------------------------------------------------------------------------------------------------------------------------------------------------------------------------------------------------------------------------------------------------------------------------------------------------------------------------------------------------------------------------------------------------------------------------------------------+\n",
      "|value                                                                                                                                                                                                                                                                                                                                                                                                                                                                                                                                                                                                                                                                                                                                                                                                                                                                                                                                                                                                                                                                                                                                                                                                                                                                                                                                                                                                                                                                                                                                                                                                                                                                                                                                                                                                                                                                                                                                                                                                                                                                                                                                                                                                                                                                                                                                                                                                                                                                                                                                                                                                                                                                                                                                                                                                                                                                                                                                                                                                                                                                                                                                                                                                                                                                                                                                                                                                                                                                                                                                                                                                                                                                                                                                                                                                                                                                                                                                                                                                                                                                                                                                                                                                                                                                                                                                                                                                                                                                                                                                                                                                                                                                                                                                                                                                                                                                                                                                                                                                                                                                                                                                                                                                                                                                                                                                                                                                                                                                                                                                                                                                                              |\n",
      "+-----------------------------------------------------------------------------------------------------------------------------------------------------------------------------------------------------------------------------------------------------------------------------------------------------------------------------------------------------------------------------------------------------------------------------------------------------------------------------------------------------------------------------------------------------------------------------------------------------------------------------------------------------------------------------------------------------------------------------------------------------------------------------------------------------------------------------------------------------------------------------------------------------------------------------------------------------------------------------------------------------------------------------------------------------------------------------------------------------------------------------------------------------------------------------------------------------------------------------------------------------------------------------------------------------------------------------------------------------------------------------------------------------------------------------------------------------------------------------------------------------------------------------------------------------------------------------------------------------------------------------------------------------------------------------------------------------------------------------------------------------------------------------------------------------------------------------------------------------------------------------------------------------------------------------------------------------------------------------------------------------------------------------------------------------------------------------------------------------------------------------------------------------------------------------------------------------------------------------------------------------------------------------------------------------------------------------------------------------------------------------------------------------------------------------------------------------------------------------------------------------------------------------------------------------------------------------------------------------------------------------------------------------------------------------------------------------------------------------------------------------------------------------------------------------------------------------------------------------------------------------------------------------------------------------------------------------------------------------------------------------------------------------------------------------------------------------------------------------------------------------------------------------------------------------------------------------------------------------------------------------------------------------------------------------------------------------------------------------------------------------------------------------------------------------------------------------------------------------------------------------------------------------------------------------------------------------------------------------------------------------------------------------------------------------------------------------------------------------------------------------------------------------------------------------------------------------------------------------------------------------------------------------------------------------------------------------------------------------------------------------------------------------------------------------------------------------------------------------------------------------------------------------------------------------------------------------------------------------------------------------------------------------------------------------------------------------------------------------------------------------------------------------------------------------------------------------------------------------------------------------------------------------------------------------------------------------------------------------------------------------------------------------------------------------------------------------------------------------------------------------------------------------------------------------------------------------------------------------------------------------------------------------------------------------------------------------------------------------------------------------------------------------------------------------------------------------------------------------------------------------------------------------------------------------------------------------------------------------------------------------------------------------------------------------------------------------------------------------------------------------------------------------------------------------------------------------------------------------------------------------------------------------------------------------------------------------------------------------------------------------------+\n",
      "|                                                                                                                                                                                                                                                                                                                                                                                                                                                                                                                                                                                                                                                                                                                                                                                                                                                                                                                                                                                                                                                                                                                                                                                                                                                                                                                                                                                                                                                                                                                                                                                                                                                                                                                                                                                                                                                                                                                                                                                                                                                                                                                                                                                                                                                                                                                                                                                                                                                                                                                                                                                                                                                                                                                                                                                                                                                                                                                                                                                                                                                                                                                                                                                                                                                                                                                                                                                                                                                                                                                                                                                                                                                                                                                                                                                                                                                                                                                                                                                                                                                                                                                                                                                                                                                                                                                                                                                                                                                                                                                                                                                                                                                                                                                                                                                                                                                                                                                                                                                                                                                                                                                                                                                                                                                                                                                                                                                                                                                                                                                                                                                                                                   |\n",
      "|@@31754341 <h> COVID-19 : 73 Children Grabbed In Takoradi For Hawking <p> The joint security and Sekondi-Takoradi Metropolitan Assembly ( STMA ) Monitoring Team have arrested and detained a total of 73 children who were found selling in and around the various markets and transport terminals in the metropolis . <p> The team arrested 32 of these children at the Central Business District of Takoradi while the remaining 41 were arrested at the Kojokrom Market and environs . <p> The arrested children are aged between 9 and 17 years and were hawking foodstuff and other items . <p> For those arrested at Kojokrom , they were detained at the Kojokrom Methodist Church while those arrested in Takoradi were sent to the All Saint Anglican Church . <p> Before the Monday , March 30 exercise , the Sekondi-Takoradi Mayor Anthony KK Sam , at a news conference to announce measures to prevent the metropolis from recording any Coronavirus case , mentioned that a monitoring team has been set up to arrest children who will be found selling . <p> \" In the wisdom of the President and his advisors , schools have been closed down in the wake of the Coronavirus @ @ @ @ @ @ @ @ @ @ from contracting the disease . So , we expect the children to be indoors as much as possible . Once the children are out on the streets selling , then the President 's drive against the coronavirus is defeated because the children become exposed . We know it is going to be difficult for some of the parents . But the end results will be of immense benefit to all of us , \" the MCE had said . <p> Minutes after the arrests , scores of parents trooped to the two holding centers and pleaded for clemency for their wards . <p> In an interview with 3news.com , Public Relations Officer of STMA John Laste said particulars of the children who were arrested and their parents were taken and were cautioned before release . <p> \" What we told the parents is that if their children are arrested for the second time , they will be arraigned before court . A good number of them pleaded and said they will take the warning serious . The team will continue the operation on Tuesday at the other markets within the @ @ @ @ @ @ @ @ @ @ level of compliance , \" he said <p> He added that the team will also ensure enforcement of directives on public gatherings , closure of beaches , provision of handwashing facilities and compliance of social distance at the banks , restaurants , transport terminals and                                                                                                                                                                                                                                                                                                                                                                                                                                                                                                                                                                                                                                                                                                                                                                                                                                                                                                                                                                                                                                                                                                                                                                                                                                                                                                                                                                                                                                                                                                                                                                                                                                                                                                                                                                                                                                                                                                                                                                                                                                                                                                                                                                                                                                                                                                                                                                                                                                                                                                                                                                                                                                                                                                                                                                                                                                                                                                                                                                                                                                                                   |\n",
      "|@@31754441 <p> ECONOMYNEXT- Sri Lanka has relaxed all restrictions on foreign currency inflows while its Central Bank issued a global appeal to Sri Lankans and charities to make foreign currency deposits in the country 's banks to assist in efforts to contain the spread of COVID-19 . <p> The Central Bank released a letter Thursday co-signed by Central Bank Governor W.D . Lakshman and Treasury Secretary S. R. Attygalle on behalf of the Cabinet of Minister , which appealed to all Sri Lankans and well-wishers living in Sri Lanka and abroad to send in their foreign currency . <p> \" We guarantee that your foreign currency deposits into the Sri Lankan banking system will be accepted without hindrance from the government , Central Bank or any other government authority , \" the letter of appeal said . <p> \" We also guarantee future convertibility of these deposits into foreign currency whenever you desire to do so . All your forex remittances will be exempted from Exchange Control Regulations and taxes and protected under banking secrecy provisions , \" the letter said . <p> The government has decided to suspend all restrictions on foreign currency inflows during a COVID-19 preventive period @ @ @ @ @ @ @ @ @ @ . <p> Sri Lanka will ban all non-essential imports except fuel and medicine and launch a drive to grow vegetables , as the island battles against Coronavirus and the currency came under pressure from liquidity injections . <p> The Central Bank of Sri Lanka invites all Sri Lankans and well-wishers living in Sri Lanka and abroad to consider depositing their savings and other funds in foreign currency within the Sri Lanka banking system -- Licensed Commercial Bank and Specialised Financial Institutions -- as a gesture of goodwill and assistance to Sri Lanka and its people during the three months commencing from April 2 , 2020 , in support of the wide-ranging national effort to safeguard people from coronavirus , to bring its spread under control and to provide healthcare and social security to the people . Your foreign currency deposits in Sri Lankan banking system at this difficult stage will be of immense help to authorities to tide over the present crisis . <p> We guarantee that your foreign currency deposits into the Sri Lankan banking system will be accepted without hindrance from the government , Central Bank or any @ @ @ @ @ @ @ @ @ @ these deposits into foreign currency whenever you desire to do so . All your forex remittances will be exempted from Exchange Control Regulations and taxes and protected under banking secrecy provisions . <p> This appeal goes to all Sri Lankan expatriates and those living in Sri Lanka with foreign currency holdings . The country welcomes remittances inflows to the banking system in Sri Lanka from them as well as from charitable organisations , funds and well-wishers all over the world , with the well-being of Sri Lanka and its people in their hearts . Such remittances would go along way to promote people 's welfare during the current period of still-spreading COVID-19 , and economic revival in the immediate aftermath . <p> This announcement and appeal are made following a decision of the Government of Sri Lanka made during the April 1st meeting of the Cabinet of Ministers . The Cabinet has decided to suspend all restrictions on foreign currency inflows in Sri Lanka during COVID-19 preventive period , defined as three ( 3 ) months commencing 2nd April 2020.                                                                                                                                                                                                                                                                                                                                                                                                                                                                                                                                                                                                                                                                                                                                                                                                                                                                                                                                                                                                                                                                                                                                                                                                                                                                                                                                                                                                                                                                                                                                                                                                                                                                                                                                                                                                                                                                                                                                                                                                                                        |\n",
      "|@@31754641 <p> The Colombo Stock Exchange ( CSE ) has continued to receive inquiries pertaining to the hosting of Annual General Meetings ( AGMs ) and requesting guidance to comply with the mandatory requirement within the boundaries of an excepted framework in the light of the COVID-19 pandemic . Large events and mass gatherings can contribute to the spread of COVID-19 via its participants and introduce the virus to new communities . Given the public health and safety concerns related to COVID-19 , the CSE in its continued efforts to promote social distancing and discourage public gatherings has offered guidance to assist Listed Companies in meeting their obligation of hosting an AGM . <p> The Listing Rules of the CSE do not contain specific provisions relating to the date on which an AGM is to be hosted by a listed company . As such , listed companies will be required to comply with the applicable provisions set out in the Companies Act No. 7 of 2007 ( ' Companies Act ' ) and the Articles of Association of the company in this regard . <p> This interim guidance is intended to act as a guideline for companies listed on the @ @ @ @ @ @ @ @ @ @ adopted in hosting AGMs amidst the restrictions brought about by the Covid-19 pandemic . The guidance offered is purely for information purposes and should be construed only as a guide . It is imperative that a listed company obtain appropriate legal advice in determining the most appropriate arrangement regarding the conduct of an AGM in the current context . <p> The following measures/factors can be considered by listed companies in this regard : <p> Postponement of the AGM <p> The company could decide to postpone its scheduled/to be scheduled AGM awaiting a more conducive environment to surface . A listed company that has already scheduled and disclosed its AGM is required to notify the CSE of its postponement . Preferably , this notice may be published in the newspapers as well . <p> The payment of a final dividend , already announced by a listed company and is in requirement of the approval of its shareholders , would also be postponed accordingly . The company could also decide to pay an interim dividend instead of the announced final dividend provided adequate prior notice can be given to the market . @ @ @ @ @ @ @ @ @ @ could choose electronic means ( subject to legal advice ) to serve notices and other communications regarding the AGM to its shareholders . <p> Any postponement of the AGM will be subject to the timelines specified in Section 133 of the Companies Act and if unable to comply , the company is advised to consult the Registrar General of Companies for further guidance . <p> Virtual AGMs <p> Companies listed on the CSE have also been presented with the option of hosting its AGM virtually to comply with the regulatory requirements and restrictions imposed as a result of the Covid-19 pandemic . This may include electronic and teleconference mechanisms to host the AGM such as Facebook Live , WEB Ex , Zoom , Webinar . <p> A company could choose to explore this alternate avenue unless restricted by its Articles of Association and subject to legal advice . The company may also consider the options set out in Section 144 of the Companies Act , under legal advice . <p> Hybrid AGMs <p> The guidance offered by CSE also presents the option for a listed company to organize and host @ @ @ @ @ @ @ @ @ @ be simultaneously held at a physical and virtual location would enable a listed company to conduct its AGM with minimal physical presence which would mitigate the risk factor associated with the spread of the virus . <p> If the Notice of Meeting has already been dispatched to the shareholders , it may be advisable to issue a Supplementary Notice , setting out the instructions . The company is obligated to notify the CSE with regards to the decision made which would be disseminated to the market . <p> Vote by Proxy <p> A listed company may also offer its shareholders an option to vote by proxy in the Notice of Meeting . In such instances , the shareholders could be presented with the option of authorizing an independent director to attend and vote at the AGM on their behalf . <p> Questions by shareholders prior to the AGM <p> A listed company may accommodate questions by its shareholders related to the business of the AGM which could be submitted prior to the date of the AGM . Responses to these provided by the Board of Directors and management along with @ @ @ @ @ @ @ @ @ @ minutes of the AGM . <p> Alternative arrangements for venues to facilitate the AGM <p> A listed company could also choose to host its AGM segregating its shareholders across a number of venues and enabling video links connecting its shareholders to the meeting . This option would reduce the numbers present at a single location which would aid the company and its shareholders to adhere to guidelines in relation to preventing the spread COVID-19 . <p> The company may be required to provide a notice of this adaptation in advance to its shareholders , specifying the numbers accommodated at a single venue and requesting shareholders to pre-register themselves or their proxies for arrangements to be made accordingly . <p> Additionally , the company could also have in place temperature and health screening measures , allowing them to turn away shareholders who fail to satisfy the health screen measures . |\n",
      "|@@31754741 <h> Over 80% of US now in lockdown <p> Four new states in the US imposed sweeping stay-at-home directives on Wednesday in response to the coronavirus pandemic . <p> That put over 80% of Americans under lockdown as the number of deaths in the United States nearly doubled in three days . <p> The governors of Florida , Georgia , Mississippi and Nevada each instituted the strict policies on a day when the death toll from COVID-19 shot up by 925 to more than 4800 nationwide , with 214,000 confirmed cases , according to a Reuters tally . <p> President Donald Trump said he saw no need for the federal government to issue a nationwide decree , with 39 states and the District of Columbia now requiring residents to stay home except for essential outings to the doctor or grocery store . <p> He also told a White House briefing on Wednesday he was considering a plan to halt flights to coronavirus hot spots . <p> \" We 're certainly looking at it , but once you do that you really are clamping down on an industry that is desperately needed , \" Trump told a White House news @ @ @ @ @ @ @ @ @ @ traffic at airports in hard-hit New York , New Orleans and Detroit . <p> \" We 're looking at the whole thing , \" Trump said of curtailing domestic flights already greatly reduced as demand has fallen . <p> White House medical experts have forecast that even if Americans hunker down in their homes as told to slow the spread of COVID-19 , some 100,000 to 240,000 people could die from the respiratory disease caused by the coronavirus . <p> A Pentagon official who spoke to Reuters on condition of anonymity said the US Department of Defense was working to provide up to 100,000 body bags for use by civilian authorities in the coming weeks . <p> Since 2010 , the flu has killed between 12,000 and 61,000 Americans a year , according to the US Centers for Disease Control and Prevention . The 1918-1919 flu pandemic killed 675,000 in the United States , according to the CDC . <p> New York state remained the epicenter of the outbreak , accounting for more than a third of the US deaths . Governor Andrew Cuomo told police on Wednesday to enforce @ @ @ @ @ @ @ @ @ @ people must get this message , and they still have not gotten the message . You still see too many situations with too much density by young people , \" Cuomo , a Democrat , said in imposing rules to close playgrounds , swing sets , basketball courts and similar spaces . <p> \" How reckless and irresponsible and selfish for people not to do it on their own , \" Cuomo said . <p> CALIFORNIA CASES SURGE <p> New York City Mayor Bill de Blasio told a news conference the city was contracting with hotels as part of a massive effort to add 65,000 additional hospital beds by the end of the month . <p> De Blasio , also a Democrat , said the city had arranged to add 10,000 beds at 20 hotels , which have lost most of their guests as travel has stopped . <p> \" This is going to be an epic process during the month of April to build out all that capacity , \" de Blasio said . \" But this goal can be reached . \" <p> California saw the number of @ @ @ @ @ @ @ @ @ @ to more than 8000 as Governor Gavin Newsom warned that even as stay-at-home policies appeared to be having some effect , the state would run out of intensive- care hospital beds equipped with ventilators within six weeks . <p> Newsom said California could still manage to \" bend \" the state 's infection curve more , saving the need for additional beds , if residents were rigorous in staying home and avoiding contact with others . <p> \" We are in a completely different place than the state of New York and I hope we will continue to be , but we wo n't unless people continue to practice physical distancing and do their part , \" the Democratic governor told a news conference in the state capital , Sacramento . <p> But Americans under lockdown and largely unable to work struggled with making ends meet as rent came due on Wednesday , the first day of the month . <p> In Oakland , California , Alfa Cristina Morales said she had been surviving on money saved for a US citizenship application since losing her job at a coffee shop @ @ @ @ @ @ @ @ @ @ son . <p> \" We 're worried that it wo n't be enough , \" she said . <p> Connecticut Governor Ned Lamont said a 6-week-old baby had died from COVID-19 , in what he called \" a reminder that nobody is safe from this virus . \" <p> Florida Governor Ron DeSantis told Fox News that Broward County would likely allow two cruise ships with coronavirus outbreaks carrying a total of 2,500 people to dock in Fort Lauderdale , despite his misgivings about potentially contagious foreign nationals . <p> \" We were concerned about a deluge into the hospitals , but I think it turns out that there will probably be some who need to go , but it 's very manageable and the local hospital system thinks that they can handle it , \" DeSantis , a Republican , told Fox . <p> At Fort Lauderdale , Floridians aboard the ships would be taken home and flights arranged for foreigners , he said .                                                                                                                                                                                                                                                                                                                                                                       |\n",
      "+-----------------------------------------------------------------------------------------------------------------------------------------------------------------------------------------------------------------------------------------------------------------------------------------------------------------------------------------------------------------------------------------------------------------------------------------------------------------------------------------------------------------------------------------------------------------------------------------------------------------------------------------------------------------------------------------------------------------------------------------------------------------------------------------------------------------------------------------------------------------------------------------------------------------------------------------------------------------------------------------------------------------------------------------------------------------------------------------------------------------------------------------------------------------------------------------------------------------------------------------------------------------------------------------------------------------------------------------------------------------------------------------------------------------------------------------------------------------------------------------------------------------------------------------------------------------------------------------------------------------------------------------------------------------------------------------------------------------------------------------------------------------------------------------------------------------------------------------------------------------------------------------------------------------------------------------------------------------------------------------------------------------------------------------------------------------------------------------------------------------------------------------------------------------------------------------------------------------------------------------------------------------------------------------------------------------------------------------------------------------------------------------------------------------------------------------------------------------------------------------------------------------------------------------------------------------------------------------------------------------------------------------------------------------------------------------------------------------------------------------------------------------------------------------------------------------------------------------------------------------------------------------------------------------------------------------------------------------------------------------------------------------------------------------------------------------------------------------------------------------------------------------------------------------------------------------------------------------------------------------------------------------------------------------------------------------------------------------------------------------------------------------------------------------------------------------------------------------------------------------------------------------------------------------------------------------------------------------------------------------------------------------------------------------------------------------------------------------------------------------------------------------------------------------------------------------------------------------------------------------------------------------------------------------------------------------------------------------------------------------------------------------------------------------------------------------------------------------------------------------------------------------------------------------------------------------------------------------------------------------------------------------------------------------------------------------------------------------------------------------------------------------------------------------------------------------------------------------------------------------------------------------------------------------------------------------------------------------------------------------------------------------------------------------------------------------------------------------------------------------------------------------------------------------------------------------------------------------------------------------------------------------------------------------------------------------------------------------------------------------------------------------------------------------------------------------------------------------------------------------------------------------------------------------------------------------------------------------------------------------------------------------------------------------------------------------------------------------------------------------------------------------------------------------------------------------------------------------------------------------------------------------------------------------------------------------------------------------------------------------------------------+\n",
      "only showing top 5 rows\n",
      "\n"
     ]
    }
   ],
   "source": [
    "lines = spark.read.text(\"shared/hw2/hw1dir/*\")\n",
    "\n",
    "lines.show(5, truncate=False)\n"
   ]
  },
  {
   "cell_type": "code",
   "execution_count": 5,
   "id": "8c9ae437-9e0b-4bec-9700-e4c661d00d99",
   "metadata": {},
   "outputs": [
    {
     "name": "stdout",
     "output_type": "stream",
     "text": [
      "+-----------------------------------------------------------------------------------------------------------------------------------------------------------------------------------------------------------------------------------------------------------------------------------------------------------------------------------------------------------------------------------------------------------------------------------------------------------------------------------------------------------------------------------------------------------------------------------------------------------------------------------------------------------------------------------------------------------------------------------------------------------------------------------------------------------------------------------------------------------------------------------------------------------------------------------------------------------------------------------------------------------------------------------------------------------------------------------------------------------------------------------------------------------------------------------------------------------------------------------------------------------------------------------------------------------------------------------------------------------------------------------------------------------------------------------------------------------------------------------------------------------------------------------------------------------------------------------------------------------------------------------------------------------------------------------------------------------------------------------------------------------------------------------------------------------------------------------------------------------------------------------------------------------------------------------------------------------------------------------------------------------------------------------------------------------------------------------------------------------------------------------------------------------------------------------------------------------------------------------------------------------------------------------------------------------------------------------------------------------------------------------------------------------------------------------------------------------------------------------------------------------------------------------------------------------------------------------------------------------------------------------------------------------------------------------------------------------------------------------------------------------------------------------------------------------------------------------------------------------------------------------------------------------------------------------------------------------------------------------------------------------------------------------------------------------------------------------------------------------------------------------------------------------------------------------------------------------------------------------------------------------------------------------------------------------------------------------------------------------------------------------------------------------------------------------------------------------------------------------------------------------------------------------------------------------------------------------------------------------------------------------------------------------------------------------------------------------------------------------------------------------------------------------------------------------------------------------------------------------------------------------------------------------------------------------------------------------------------------------------------------------------------------------------------------------------------------------------------------------------------------------------------------------------------------------------------------------------------------------------------------------------------------------------------------------------------------------------------------------------------------------------------------------------------------------------------------------------------------------------------------------------------------------------------------------------------------------------------------------------------------------------------------------------------------------------------------------------------------------------------------------------------------------------------------------------------------------------------------------------------------------------------------------------------------------------------------------------------------------------------------------------------------------------------------------------------------------------------------------------------------------------------------------------------------------------------------------------------------------------------------------------------------------------------------------------------------------------------------------------------------------------------------------------------------------------------------------------------------------------------------------------------------------------------------------------------------------------------------------------------------------+\n",
      "|line                                                                                                                                                                                                                                                                                                                                                                                                                                                                                                                                                                                                                                                                                                                                                                                                                                                                                                                                                                                                                                                                                                                                                                                                                                                                                                                                                                                                                                                                                                                                                                                                                                                                                                                                                                                                                                                                                                                                                                                                                                                                                                                                                                                                                                                                                                                                                                                                                                                                                                                                                                                                                                                                                                                                                                                                                                                                                                                                                                                                                                                                                                                                                                                                                                                                                                                                                                                                                                                                                                                                                                                                                                                                                                                                                                                                                                                                                                                                                                                                                                                                                                                                                                                                                                                                                                                                                                                                                                                                                                                                                                                                                                                                                                                                                                                                                                                                                                                                                                                                                                                                                                                                                                                                                                                                                                                                                                                                                                                                                                                                                                                                                               |\n",
      "+-----------------------------------------------------------------------------------------------------------------------------------------------------------------------------------------------------------------------------------------------------------------------------------------------------------------------------------------------------------------------------------------------------------------------------------------------------------------------------------------------------------------------------------------------------------------------------------------------------------------------------------------------------------------------------------------------------------------------------------------------------------------------------------------------------------------------------------------------------------------------------------------------------------------------------------------------------------------------------------------------------------------------------------------------------------------------------------------------------------------------------------------------------------------------------------------------------------------------------------------------------------------------------------------------------------------------------------------------------------------------------------------------------------------------------------------------------------------------------------------------------------------------------------------------------------------------------------------------------------------------------------------------------------------------------------------------------------------------------------------------------------------------------------------------------------------------------------------------------------------------------------------------------------------------------------------------------------------------------------------------------------------------------------------------------------------------------------------------------------------------------------------------------------------------------------------------------------------------------------------------------------------------------------------------------------------------------------------------------------------------------------------------------------------------------------------------------------------------------------------------------------------------------------------------------------------------------------------------------------------------------------------------------------------------------------------------------------------------------------------------------------------------------------------------------------------------------------------------------------------------------------------------------------------------------------------------------------------------------------------------------------------------------------------------------------------------------------------------------------------------------------------------------------------------------------------------------------------------------------------------------------------------------------------------------------------------------------------------------------------------------------------------------------------------------------------------------------------------------------------------------------------------------------------------------------------------------------------------------------------------------------------------------------------------------------------------------------------------------------------------------------------------------------------------------------------------------------------------------------------------------------------------------------------------------------------------------------------------------------------------------------------------------------------------------------------------------------------------------------------------------------------------------------------------------------------------------------------------------------------------------------------------------------------------------------------------------------------------------------------------------------------------------------------------------------------------------------------------------------------------------------------------------------------------------------------------------------------------------------------------------------------------------------------------------------------------------------------------------------------------------------------------------------------------------------------------------------------------------------------------------------------------------------------------------------------------------------------------------------------------------------------------------------------------------------------------------------------------------------------------------------------------------------------------------------------------------------------------------------------------------------------------------------------------------------------------------------------------------------------------------------------------------------------------------------------------------------------------------------------------------------------------------------------------------------------------------------------------------------------------------------+\n",
      "|                                                                                                                                                                                                                                                                                                                                                                                                                                                                                                                                                                                                                                                                                                                                                                                                                                                                                                                                                                                                                                                                                                                                                                                                                                                                                                                                                                                                                                                                                                                                                                                                                                                                                                                                                                                                                                                                                                                                                                                                                                                                                                                                                                                                                                                                                                                                                                                                                                                                                                                                                                                                                                                                                                                                                                                                                                                                                                                                                                                                                                                                                                                                                                                                                                                                                                                                                                                                                                                                                                                                                                                                                                                                                                                                                                                                                                                                                                                                                                                                                                                                                                                                                                                                                                                                                                                                                                                                                                                                                                                                                                                                                                                                                                                                                                                                                                                                                                                                                                                                                                                                                                                                                                                                                                                                                                                                                                                                                                                                                                                                                                                                                                   |\n",
      "|  31754341  h  covid 19   73 children grabbed in takoradi for hawking  p  the joint security and sekondi takoradi metropolitan assembly   stma   monitoring team have arrested and detained a total of 73 children who were found selling in and around the various markets and transport terminals in the metropolis    p  the team arrested 32 of these children at the central business district of takoradi while the remaining 41 were arrested at the kojokrom market and environs    p  the arrested children are aged between 9 and 17 years and were hawking foodstuff and other items    p  for those arrested at kojokrom   they were detained at the kojokrom methodist church while those arrested in takoradi were sent to the all saint anglican church    p  before the monday   march 30 exercise   the sekondi takoradi mayor anthony kk sam   at a news conference to announce measures to prevent the metropolis from recording any coronavirus case   mentioned that a monitoring team has been set up to arrest children who will be found selling    p    in the wisdom of the president and his advisors   schools have been closed down in the wake of the coronavirus                     from contracting the disease   so   we expect the children to be indoors as much as possible   once the children are out on the streets selling   then the president  s drive against the coronavirus is defeated because the children become exposed   we know it is going to be difficult for some of the parents   but the end results will be of immense benefit to all of us     the mce had said    p  minutes after the arrests   scores of parents trooped to the two holding centers and pleaded for clemency for their wards    p  in an interview with 3news com   public relations officer of stma john laste said particulars of the children who were arrested and their parents were taken and were cautioned before release    p    what we told the parents is that if their children are arrested for the second time   they will be arraigned before court   a good number of them pleaded and said they will take the warning serious   the team will continue the operation on tuesday at the other markets within the                     level of compliance     he said  p  he added that the team will also ensure enforcement of directives on public gatherings   closure of beaches   provision of handwashing facilities and compliance of social distance at the banks   restaurants   transport terminals and                                                                                                                                                                                                                                                                                                                                                                                                                                                                                                                                                                                                                                                                                                                                                                                                                                                                                                                                                                                                                                                                                                                                                                                                                                                                                                                                                                                                                                                                                                                                                                                                                                                                                                                                                                                                                                                                                                                                                                                                                                                                                                                                                                                                                                                                                                                                                                                                                                                                                                                                                                                                                                                                                                                                                                                                                                                                                                                                                                                                                                                                   |\n",
      "|  31754441  p  economynext  sri lanka has relaxed all restrictions on foreign currency inflows while its central bank issued a global appeal to sri lankans and charities to make foreign currency deposits in the country  s banks to assist in efforts to contain the spread of covid 19    p  the central bank released a letter thursday co signed by central bank governor w d   lakshman and treasury secretary s  r  attygalle on behalf of the cabinet of minister   which appealed to all sri lankans and well wishers living in sri lanka and abroad to send in their foreign currency    p    we guarantee that your foreign currency deposits into the sri lankan banking system will be accepted without hindrance from the government   central bank or any other government authority     the letter of appeal said    p    we also guarantee future convertibility of these deposits into foreign currency whenever you desire to do so   all your forex remittances will be exempted from exchange control regulations and taxes and protected under banking secrecy provisions     the letter said    p  the government has decided to suspend all restrictions on foreign currency inflows during a covid 19 preventive period                        p  sri lanka will ban all non essential imports except fuel and medicine and launch a drive to grow vegetables   as the island battles against coronavirus and the currency came under pressure from liquidity injections    p  the central bank of sri lanka invites all sri lankans and well wishers living in sri lanka and abroad to consider depositing their savings and other funds in foreign currency within the sri lanka banking system    licensed commercial bank and specialised financial institutions    as a gesture of goodwill and assistance to sri lanka and its people during the three months commencing from april 2   2020   in support of the wide ranging national effort to safeguard people from coronavirus   to bring its spread under control and to provide healthcare and social security to the people   your foreign currency deposits in sri lankan banking system at this difficult stage will be of immense help to authorities to tide over the present crisis    p  we guarantee that your foreign currency deposits into the sri lankan banking system will be accepted without hindrance from the government   central bank or any                     these deposits into foreign currency whenever you desire to do so   all your forex remittances will be exempted from exchange control regulations and taxes and protected under banking secrecy provisions    p  this appeal goes to all sri lankan expatriates and those living in sri lanka with foreign currency holdings   the country welcomes remittances inflows to the banking system in sri lanka from them as well as from charitable organisations   funds and well wishers all over the world   with the well being of sri lanka and its people in their hearts   such remittances would go along way to promote people  s welfare during the current period of still spreading covid 19   and economic revival in the immediate aftermath    p  this announcement and appeal are made following a decision of the government of sri lanka made during the april 1st meeting of the cabinet of ministers   the cabinet has decided to suspend all restrictions on foreign currency inflows in sri lanka during covid 19 preventive period   defined as three   3   months commencing 2nd april 2020                                                                                                                                                                                                                                                                                                                                                                                                                                                                                                                                                                                                                                                                                                                                                                                                                                                                                                                                                                                                                                                                                                                                                                                                                                                                                                                                                                                                                                                                                                                                                                                                                                                                                                                                                                                                                                                                                                                                                                                                                                         |\n",
      "|  31754641  p  the colombo stock exchange   cse   has continued to receive inquiries pertaining to the hosting of annual general meetings   agms   and requesting guidance to comply with the mandatory requirement within the boundaries of an excepted framework in the light of the covid 19 pandemic   large events and mass gatherings can contribute to the spread of covid 19 via its participants and introduce the virus to new communities   given the public health and safety concerns related to covid 19   the cse in its continued efforts to promote social distancing and discourage public gatherings has offered guidance to assist listed companies in meeting their obligation of hosting an agm    p  the listing rules of the cse do not contain specific provisions relating to the date on which an agm is to be hosted by a listed company   as such   listed companies will be required to comply with the applicable provisions set out in the companies act no  7 of 2007     companies act     and the articles of association of the company in this regard    p  this interim guidance is intended to act as a guideline for companies listed on the                     adopted in hosting agms amidst the restrictions brought about by the covid 19 pandemic   the guidance offered is purely for information purposes and should be construed only as a guide   it is imperative that a listed company obtain appropriate legal advice in determining the most appropriate arrangement regarding the conduct of an agm in the current context    p  the following measures factors can be considered by listed companies in this regard    p  postponement of the agm  p  the company could decide to postpone its scheduled to be scheduled agm awaiting a more conducive environment to surface   a listed company that has already scheduled and disclosed its agm is required to notify the cse of its postponement   preferably   this notice may be published in the newspapers as well    p  the payment of a final dividend   already announced by a listed company and is in requirement of the approval of its shareholders   would also be postponed accordingly   the company could also decide to pay an interim dividend instead of the announced final dividend provided adequate prior notice can be given to the market                       could choose electronic means   subject to legal advice   to serve notices and other communications regarding the agm to its shareholders    p  any postponement of the agm will be subject to the timelines specified in section 133 of the companies act and if unable to comply   the company is advised to consult the registrar general of companies for further guidance    p  virtual agms  p  companies listed on the cse have also been presented with the option of hosting its agm virtually to comply with the regulatory requirements and restrictions imposed as a result of the covid 19 pandemic   this may include electronic and teleconference mechanisms to host the agm such as facebook live   web ex   zoom   webinar    p  a company could choose to explore this alternate avenue unless restricted by its articles of association and subject to legal advice   the company may also consider the options set out in section 144 of the companies act   under legal advice    p  hybrid agms  p  the guidance offered by cse also presents the option for a listed company to organize and host                     be simultaneously held at a physical and virtual location would enable a listed company to conduct its agm with minimal physical presence which would mitigate the risk factor associated with the spread of the virus    p  if the notice of meeting has already been dispatched to the shareholders   it may be advisable to issue a supplementary notice   setting out the instructions   the company is obligated to notify the cse with regards to the decision made which would be disseminated to the market    p  vote by proxy  p  a listed company may also offer its shareholders an option to vote by proxy in the notice of meeting   in such instances   the shareholders could be presented with the option of authorizing an independent director to attend and vote at the agm on their behalf    p  questions by shareholders prior to the agm  p  a listed company may accommodate questions by its shareholders related to the business of the agm which could be submitted prior to the date of the agm   responses to these provided by the board of directors and management along with                     minutes of the agm    p  alternative arrangements for venues to facilitate the agm  p  a listed company could also choose to host its agm segregating its shareholders across a number of venues and enabling video links connecting its shareholders to the meeting   this option would reduce the numbers present at a single location which would aid the company and its shareholders to adhere to guidelines in relation to preventing the spread covid 19    p  the company may be required to provide a notice of this adaptation in advance to its shareholders   specifying the numbers accommodated at a single venue and requesting shareholders to pre register themselves or their proxies for arrangements to be made accordingly    p  additionally   the company could also have in place temperature and health screening measures   allowing them to turn away shareholders who fail to satisfy the health screen measures   |\n",
      "|  31754741  h  over 80  of us now in lockdown  p  four new states in the us imposed sweeping stay at home directives on wednesday in response to the coronavirus pandemic    p  that put over 80  of americans under lockdown as the number of deaths in the united states nearly doubled in three days    p  the governors of florida   georgia   mississippi and nevada each instituted the strict policies on a day when the death toll from covid 19 shot up by 925 to more than 4800 nationwide   with 214 000 confirmed cases   according to a reuters tally    p  president donald trump said he saw no need for the federal government to issue a nationwide decree   with 39 states and the district of columbia now requiring residents to stay home except for essential outings to the doctor or grocery store    p  he also told a white house briefing on wednesday he was considering a plan to halt flights to coronavirus hot spots    p    we  re certainly looking at it   but once you do that you really are clamping down on an industry that is desperately needed     trump told a white house news                     traffic at airports in hard hit new york   new orleans and detroit    p    we  re looking at the whole thing     trump said of curtailing domestic flights already greatly reduced as demand has fallen    p  white house medical experts have forecast that even if americans hunker down in their homes as told to slow the spread of covid 19   some 100 000 to 240 000 people could die from the respiratory disease caused by the coronavirus    p  a pentagon official who spoke to reuters on condition of anonymity said the us department of defense was working to provide up to 100 000 body bags for use by civilian authorities in the coming weeks    p  since 2010   the flu has killed between 12 000 and 61 000 americans a year   according to the us centers for disease control and prevention   the 1918 1919 flu pandemic killed 675 000 in the united states   according to the cdc    p  new york state remained the epicenter of the outbreak   accounting for more than a third of the us deaths   governor andrew cuomo told police on wednesday to enforce                     people must get this message   and they still have not gotten the message   you still see too many situations with too much density by young people     cuomo   a democrat   said in imposing rules to close playgrounds   swing sets   basketball courts and similar spaces    p    how reckless and irresponsible and selfish for people not to do it on their own     cuomo said    p  california cases surge  p  new york city mayor bill de blasio told a news conference the city was contracting with hotels as part of a massive effort to add 65 000 additional hospital beds by the end of the month    p  de blasio   also a democrat   said the city had arranged to add 10 000 beds at 20 hotels   which have lost most of their guests as travel has stopped    p    this is going to be an epic process during the month of april to build out all that capacity     de blasio said     but this goal can be reached      p  california saw the number of                     to more than 8000 as governor gavin newsom warned that even as stay at home policies appeared to be having some effect   the state would run out of intensive  care hospital beds equipped with ventilators within six weeks    p  newsom said california could still manage to   bend   the state  s infection curve more   saving the need for additional beds   if residents were rigorous in staying home and avoiding contact with others    p    we are in a completely different place than the state of new york and i hope we will continue to be   but we wo n t unless people continue to practice physical distancing and do their part     the democratic governor told a news conference in the state capital   sacramento    p  but americans under lockdown and largely unable to work struggled with making ends meet as rent came due on wednesday   the first day of the month    p  in oakland   california   alfa cristina morales said she had been surviving on money saved for a us citizenship application since losing her job at a coffee shop                     son    p    we  re worried that it wo n t be enough     she said    p  connecticut governor ned lamont said a 6 week old baby had died from covid 19   in what he called   a reminder that nobody is safe from this virus      p  florida governor ron desantis told fox news that broward county would likely allow two cruise ships with coronavirus outbreaks carrying a total of 2 500 people to dock in fort lauderdale   despite his misgivings about potentially contagious foreign nationals    p    we were concerned about a deluge into the hospitals   but i think it turns out that there will probably be some who need to go   but it  s very manageable and the local hospital system thinks that they can handle it     desantis   a republican   told fox    p  at fort lauderdale   floridians aboard the ships would be taken home and flights arranged for foreigners   he said                                                                                                                                                                                                                                                                                                                                                                         |\n",
      "+-----------------------------------------------------------------------------------------------------------------------------------------------------------------------------------------------------------------------------------------------------------------------------------------------------------------------------------------------------------------------------------------------------------------------------------------------------------------------------------------------------------------------------------------------------------------------------------------------------------------------------------------------------------------------------------------------------------------------------------------------------------------------------------------------------------------------------------------------------------------------------------------------------------------------------------------------------------------------------------------------------------------------------------------------------------------------------------------------------------------------------------------------------------------------------------------------------------------------------------------------------------------------------------------------------------------------------------------------------------------------------------------------------------------------------------------------------------------------------------------------------------------------------------------------------------------------------------------------------------------------------------------------------------------------------------------------------------------------------------------------------------------------------------------------------------------------------------------------------------------------------------------------------------------------------------------------------------------------------------------------------------------------------------------------------------------------------------------------------------------------------------------------------------------------------------------------------------------------------------------------------------------------------------------------------------------------------------------------------------------------------------------------------------------------------------------------------------------------------------------------------------------------------------------------------------------------------------------------------------------------------------------------------------------------------------------------------------------------------------------------------------------------------------------------------------------------------------------------------------------------------------------------------------------------------------------------------------------------------------------------------------------------------------------------------------------------------------------------------------------------------------------------------------------------------------------------------------------------------------------------------------------------------------------------------------------------------------------------------------------------------------------------------------------------------------------------------------------------------------------------------------------------------------------------------------------------------------------------------------------------------------------------------------------------------------------------------------------------------------------------------------------------------------------------------------------------------------------------------------------------------------------------------------------------------------------------------------------------------------------------------------------------------------------------------------------------------------------------------------------------------------------------------------------------------------------------------------------------------------------------------------------------------------------------------------------------------------------------------------------------------------------------------------------------------------------------------------------------------------------------------------------------------------------------------------------------------------------------------------------------------------------------------------------------------------------------------------------------------------------------------------------------------------------------------------------------------------------------------------------------------------------------------------------------------------------------------------------------------------------------------------------------------------------------------------------------------------------------------------------------------------------------------------------------------------------------------------------------------------------------------------------------------------------------------------------------------------------------------------------------------------------------------------------------------------------------------------------------------------------------------------------------------------------------------------------------------------------------------------------------------------+\n",
      "only showing top 5 rows\n",
      "\n"
     ]
    }
   ],
   "source": [
    "normalized = lines.select(\n",
    "    regexp_replace(\n",
    "        lower(col(\"value\")),   \n",
    "        \"[^0-9a-z]\",            \n",
    "        \" \"                     \n",
    "    ).alias(\"line\")\n",
    ")\n",
    "\n",
    "normalized.show(5, truncate=False)\n"
   ]
  },
  {
   "cell_type": "code",
   "execution_count": 6,
   "id": "f39b8fc3-e42e-4371-990d-9bf9242d236d",
   "metadata": {},
   "outputs": [],
   "source": [
    "\n",
    "split_df = normalized.select(split(col(\"line\"), \"\\\\s+\").alias(\"words\"))\n",
    "\n",
    "words_df = split_df.select(explode(col(\"words\")).alias(\"word\"))\n",
    "\n",
    "words_df = words_df.filter(col(\"word\") != \"\")\n",
    "\n",
    "word_count = words_df.groupBy(\"word\").count()\n"
   ]
  },
  {
   "cell_type": "code",
   "execution_count": 7,
   "id": "ff17f77f-ec6e-4afb-81bf-318c044fa44c",
   "metadata": {},
   "outputs": [
    {
     "name": "stderr",
     "output_type": "stream",
     "text": [
      "[Stage 4:>                                                          (0 + 1) / 1]\r"
     ]
    },
    {
     "name": "stdout",
     "output_type": "stream",
     "text": [
      "+----+------+\n",
      "|word|count |\n",
      "+----+------+\n",
      "|the |163547|\n",
      "|to  |89046 |\n",
      "|p   |78664 |\n",
      "|of  |75568 |\n",
      "|and |72730 |\n",
      "|in  |56782 |\n",
      "|a   |53198 |\n",
      "|for |29770 |\n",
      "|that|28852 |\n",
      "|is  |27601 |\n",
      "|on  |24485 |\n",
      "|s   |23615 |\n",
      "|with|19575 |\n",
      "|are |19417 |\n",
      "|it  |18231 |\n",
      "|be  |17998 |\n",
      "|as  |17796 |\n",
      "|have|16188 |\n",
      "|at  |15965 |\n",
      "|we  |15754 |\n",
      "+----+------+\n",
      "only showing top 20 rows\n",
      "\n"
     ]
    },
    {
     "name": "stderr",
     "output_type": "stream",
     "text": [
      "                                                                                \r"
     ]
    }
   ],
   "source": [
    "top_20 = word_count.orderBy(col(\"count\").desc())\n",
    "top_20.show(20, truncate=False)\n"
   ]
  },
  {
   "cell_type": "code",
   "execution_count": 16,
   "id": "0b014054-fc57-4a65-b309-b41e2282a5fc",
   "metadata": {},
   "outputs": [
    {
     "ename": "ConnectionRefusedError",
     "evalue": "[Errno 111] Connection refused",
     "output_type": "error",
     "traceback": [
      "\u001b[0;31m---------------------------------------------------------------------------\u001b[0m",
      "\u001b[0;31mConnectionRefusedError\u001b[0m                    Traceback (most recent call last)",
      "Cell \u001b[0;32mIn[16], line 7\u001b[0m\n\u001b[1;32m      3\u001b[0m \u001b[38;5;28;01mfrom\u001b[39;00m\u001b[38;5;250m \u001b[39m\u001b[38;5;21;01mpyspark\u001b[39;00m\u001b[38;5;21;01m.\u001b[39;00m\u001b[38;5;21;01msql\u001b[39;00m\u001b[38;5;21;01m.\u001b[39;00m\u001b[38;5;21;01mfunctions\u001b[39;00m\u001b[38;5;250m \u001b[39m\u001b[38;5;28;01mimport\u001b[39;00m explode, col, desc\n\u001b[1;32m      4\u001b[0m \u001b[38;5;28;01mfrom\u001b[39;00m\u001b[38;5;250m \u001b[39m\u001b[38;5;21;01mpyspark\u001b[39;00m\u001b[38;5;21;01m.\u001b[39;00m\u001b[38;5;21;01mml\u001b[39;00m\u001b[38;5;21;01m.\u001b[39;00m\u001b[38;5;21;01mfeature\u001b[39;00m\u001b[38;5;250m \u001b[39m\u001b[38;5;28;01mimport\u001b[39;00m RegexTokenizer, NGram\n\u001b[0;32m----> 7\u001b[0m spark5 \u001b[38;5;241m=\u001b[39m \u001b[43mSparkSession\u001b[49m\u001b[38;5;241;43m.\u001b[39;49m\u001b[43mbuilder\u001b[49m\u001b[38;5;241;43m.\u001b[39;49m\u001b[43mappName\u001b[49m\u001b[43m(\u001b[49m\u001b[38;5;124;43m\"\u001b[39;49m\u001b[38;5;124;43mTrigramAnalysis\u001b[39;49m\u001b[38;5;124;43m\"\u001b[39;49m\u001b[43m)\u001b[49m\u001b[38;5;241;43m.\u001b[39;49m\u001b[43mgetOrCreate\u001b[49m\u001b[43m(\u001b[49m\u001b[43m)\u001b[49m\n\u001b[1;32m     10\u001b[0m lines \u001b[38;5;241m=\u001b[39m spark5\u001b[38;5;241m.\u001b[39mread\u001b[38;5;241m.\u001b[39mtext(\u001b[38;5;124m\"\u001b[39m\u001b[38;5;124mshared/hw2/internet_archive_scifi_v3.txt\u001b[39m\u001b[38;5;124m\"\u001b[39m)\n\u001b[1;32m     12\u001b[0m lines \u001b[38;5;241m=\u001b[39m spark5\u001b[38;5;241m.\u001b[39mread \\\n\u001b[1;32m     13\u001b[0m     \u001b[38;5;241m.\u001b[39moption(\u001b[38;5;124m\"\u001b[39m\u001b[38;5;124mencoding\u001b[39m\u001b[38;5;124m\"\u001b[39m, \u001b[38;5;124m\"\u001b[39m\u001b[38;5;124mUTF-8\u001b[39m\u001b[38;5;124m\"\u001b[39m) \\\n\u001b[1;32m     14\u001b[0m     \u001b[38;5;241m.\u001b[39mtext(\u001b[38;5;124m\"\u001b[39m\u001b[38;5;124mshared/hw2/internet_archive_scifi_v3.txt\u001b[39m\u001b[38;5;124m\"\u001b[39m)\n",
      "File \u001b[0;32m/opt/conda/envs/bigdata/lib/python3.12/site-packages/pyspark/sql/session.py:503\u001b[0m, in \u001b[0;36mSparkSession.Builder.getOrCreate\u001b[0;34m(self)\u001b[0m\n\u001b[1;32m    500\u001b[0m     session \u001b[38;5;241m=\u001b[39m SparkSession(sc, options\u001b[38;5;241m=\u001b[39m\u001b[38;5;28mself\u001b[39m\u001b[38;5;241m.\u001b[39m_options)\n\u001b[1;32m    501\u001b[0m \u001b[38;5;28;01melse\u001b[39;00m:\n\u001b[1;32m    502\u001b[0m     \u001b[38;5;28mgetattr\u001b[39m(\n\u001b[0;32m--> 503\u001b[0m         \u001b[38;5;28;43mgetattr\u001b[39;49m\u001b[43m(\u001b[49m\u001b[43msession\u001b[49m\u001b[38;5;241;43m.\u001b[39;49m\u001b[43m_jvm\u001b[49m\u001b[43m,\u001b[49m\u001b[43m \u001b[49m\u001b[38;5;124;43m\"\u001b[39;49m\u001b[38;5;124;43mSparkSession$\u001b[39;49m\u001b[38;5;124;43m\"\u001b[39;49m\u001b[43m)\u001b[49m, \u001b[38;5;124m\"\u001b[39m\u001b[38;5;124mMODULE$\u001b[39m\u001b[38;5;124m\"\u001b[39m\n\u001b[1;32m    504\u001b[0m     )\u001b[38;5;241m.\u001b[39mapplyModifiableSettings(session\u001b[38;5;241m.\u001b[39m_jsparkSession, \u001b[38;5;28mself\u001b[39m\u001b[38;5;241m.\u001b[39m_options)\n\u001b[1;32m    505\u001b[0m \u001b[38;5;28;01mreturn\u001b[39;00m session\n",
      "File \u001b[0;32m/opt/conda/envs/bigdata/lib/python3.12/site-packages/py4j/java_gateway.py:1712\u001b[0m, in \u001b[0;36mJVMView.__getattr__\u001b[0;34m(self, name)\u001b[0m\n\u001b[1;32m   1709\u001b[0m \u001b[38;5;28;01mif\u001b[39;00m name \u001b[38;5;241m==\u001b[39m UserHelpAutoCompletion\u001b[38;5;241m.\u001b[39mKEY:\n\u001b[1;32m   1710\u001b[0m     \u001b[38;5;28;01mreturn\u001b[39;00m UserHelpAutoCompletion()\n\u001b[0;32m-> 1712\u001b[0m answer \u001b[38;5;241m=\u001b[39m \u001b[38;5;28;43mself\u001b[39;49m\u001b[38;5;241;43m.\u001b[39;49m\u001b[43m_gateway_client\u001b[49m\u001b[38;5;241;43m.\u001b[39;49m\u001b[43msend_command\u001b[49m\u001b[43m(\u001b[49m\n\u001b[1;32m   1713\u001b[0m \u001b[43m    \u001b[49m\u001b[43mproto\u001b[49m\u001b[38;5;241;43m.\u001b[39;49m\u001b[43mREFLECTION_COMMAND_NAME\u001b[49m\u001b[43m \u001b[49m\u001b[38;5;241;43m+\u001b[39;49m\n\u001b[1;32m   1714\u001b[0m \u001b[43m    \u001b[49m\u001b[43mproto\u001b[49m\u001b[38;5;241;43m.\u001b[39;49m\u001b[43mREFL_GET_UNKNOWN_SUB_COMMAND_NAME\u001b[49m\u001b[43m \u001b[49m\u001b[38;5;241;43m+\u001b[39;49m\u001b[43m \u001b[49m\u001b[43mname\u001b[49m\u001b[43m \u001b[49m\u001b[38;5;241;43m+\u001b[39;49m\u001b[43m \u001b[49m\u001b[38;5;124;43m\"\u001b[39;49m\u001b[38;5;130;43;01m\\n\u001b[39;49;00m\u001b[38;5;124;43m\"\u001b[39;49m\u001b[43m \u001b[49m\u001b[38;5;241;43m+\u001b[39;49m\u001b[43m \u001b[49m\u001b[38;5;28;43mself\u001b[39;49m\u001b[38;5;241;43m.\u001b[39;49m\u001b[43m_id\u001b[49m\u001b[43m \u001b[49m\u001b[38;5;241;43m+\u001b[39;49m\n\u001b[1;32m   1715\u001b[0m \u001b[43m    \u001b[49m\u001b[38;5;124;43m\"\u001b[39;49m\u001b[38;5;130;43;01m\\n\u001b[39;49;00m\u001b[38;5;124;43m\"\u001b[39;49m\u001b[43m \u001b[49m\u001b[38;5;241;43m+\u001b[39;49m\u001b[43m \u001b[49m\u001b[43mproto\u001b[49m\u001b[38;5;241;43m.\u001b[39;49m\u001b[43mEND_COMMAND_PART\u001b[49m\u001b[43m)\u001b[49m\n\u001b[1;32m   1716\u001b[0m \u001b[38;5;28;01mif\u001b[39;00m answer \u001b[38;5;241m==\u001b[39m proto\u001b[38;5;241m.\u001b[39mSUCCESS_PACKAGE:\n\u001b[1;32m   1717\u001b[0m     \u001b[38;5;28;01mreturn\u001b[39;00m JavaPackage(name, \u001b[38;5;28mself\u001b[39m\u001b[38;5;241m.\u001b[39m_gateway_client, jvm_id\u001b[38;5;241m=\u001b[39m\u001b[38;5;28mself\u001b[39m\u001b[38;5;241m.\u001b[39m_id)\n",
      "File \u001b[0;32m/opt/conda/envs/bigdata/lib/python3.12/site-packages/py4j/java_gateway.py:1036\u001b[0m, in \u001b[0;36mGatewayClient.send_command\u001b[0;34m(self, command, retry, binary)\u001b[0m\n\u001b[1;32m   1015\u001b[0m \u001b[38;5;28;01mdef\u001b[39;00m\u001b[38;5;250m \u001b[39m\u001b[38;5;21msend_command\u001b[39m(\u001b[38;5;28mself\u001b[39m, command, retry\u001b[38;5;241m=\u001b[39m\u001b[38;5;28;01mTrue\u001b[39;00m, binary\u001b[38;5;241m=\u001b[39m\u001b[38;5;28;01mFalse\u001b[39;00m):\n\u001b[1;32m   1016\u001b[0m \u001b[38;5;250m    \u001b[39m\u001b[38;5;124;03m\"\"\"Sends a command to the JVM. This method is not intended to be\u001b[39;00m\n\u001b[1;32m   1017\u001b[0m \u001b[38;5;124;03m       called directly by Py4J users. It is usually called by\u001b[39;00m\n\u001b[1;32m   1018\u001b[0m \u001b[38;5;124;03m       :class:`JavaMember` instances.\u001b[39;00m\n\u001b[0;32m   (...)\u001b[0m\n\u001b[1;32m   1034\u001b[0m \u001b[38;5;124;03m     if `binary` is `True`.\u001b[39;00m\n\u001b[1;32m   1035\u001b[0m \u001b[38;5;124;03m    \"\"\"\u001b[39;00m\n\u001b[0;32m-> 1036\u001b[0m     connection \u001b[38;5;241m=\u001b[39m \u001b[38;5;28;43mself\u001b[39;49m\u001b[38;5;241;43m.\u001b[39;49m\u001b[43m_get_connection\u001b[49m\u001b[43m(\u001b[49m\u001b[43m)\u001b[49m\n\u001b[1;32m   1037\u001b[0m     \u001b[38;5;28;01mtry\u001b[39;00m:\n\u001b[1;32m   1038\u001b[0m         response \u001b[38;5;241m=\u001b[39m connection\u001b[38;5;241m.\u001b[39msend_command(command)\n",
      "File \u001b[0;32m/opt/conda/envs/bigdata/lib/python3.12/site-packages/py4j/clientserver.py:284\u001b[0m, in \u001b[0;36mJavaClient._get_connection\u001b[0;34m(self)\u001b[0m\n\u001b[1;32m    281\u001b[0m     \u001b[38;5;28;01mpass\u001b[39;00m\n\u001b[1;32m    283\u001b[0m \u001b[38;5;28;01mif\u001b[39;00m connection \u001b[38;5;129;01mis\u001b[39;00m \u001b[38;5;28;01mNone\u001b[39;00m \u001b[38;5;129;01mor\u001b[39;00m connection\u001b[38;5;241m.\u001b[39msocket \u001b[38;5;129;01mis\u001b[39;00m \u001b[38;5;28;01mNone\u001b[39;00m:\n\u001b[0;32m--> 284\u001b[0m     connection \u001b[38;5;241m=\u001b[39m \u001b[38;5;28;43mself\u001b[39;49m\u001b[38;5;241;43m.\u001b[39;49m\u001b[43m_create_new_connection\u001b[49m\u001b[43m(\u001b[49m\u001b[43m)\u001b[49m\n\u001b[1;32m    285\u001b[0m \u001b[38;5;28;01mreturn\u001b[39;00m connection\n",
      "File \u001b[0;32m/opt/conda/envs/bigdata/lib/python3.12/site-packages/py4j/clientserver.py:291\u001b[0m, in \u001b[0;36mJavaClient._create_new_connection\u001b[0;34m(self)\u001b[0m\n\u001b[1;32m    287\u001b[0m \u001b[38;5;28;01mdef\u001b[39;00m\u001b[38;5;250m \u001b[39m\u001b[38;5;21m_create_new_connection\u001b[39m(\u001b[38;5;28mself\u001b[39m):\n\u001b[1;32m    288\u001b[0m     connection \u001b[38;5;241m=\u001b[39m ClientServerConnection(\n\u001b[1;32m    289\u001b[0m         \u001b[38;5;28mself\u001b[39m\u001b[38;5;241m.\u001b[39mjava_parameters, \u001b[38;5;28mself\u001b[39m\u001b[38;5;241m.\u001b[39mpython_parameters,\n\u001b[1;32m    290\u001b[0m         \u001b[38;5;28mself\u001b[39m\u001b[38;5;241m.\u001b[39mgateway_property, \u001b[38;5;28mself\u001b[39m)\n\u001b[0;32m--> 291\u001b[0m     \u001b[43mconnection\u001b[49m\u001b[38;5;241;43m.\u001b[39;49m\u001b[43mconnect_to_java_server\u001b[49m\u001b[43m(\u001b[49m\u001b[43m)\u001b[49m\n\u001b[1;32m    292\u001b[0m     \u001b[38;5;28mself\u001b[39m\u001b[38;5;241m.\u001b[39mset_thread_connection(connection)\n\u001b[1;32m    293\u001b[0m     \u001b[38;5;28;01mreturn\u001b[39;00m connection\n",
      "File \u001b[0;32m/opt/conda/envs/bigdata/lib/python3.12/site-packages/py4j/clientserver.py:438\u001b[0m, in \u001b[0;36mClientServerConnection.connect_to_java_server\u001b[0;34m(self)\u001b[0m\n\u001b[1;32m    435\u001b[0m \u001b[38;5;28;01mif\u001b[39;00m \u001b[38;5;28mself\u001b[39m\u001b[38;5;241m.\u001b[39mssl_context:\n\u001b[1;32m    436\u001b[0m     \u001b[38;5;28mself\u001b[39m\u001b[38;5;241m.\u001b[39msocket \u001b[38;5;241m=\u001b[39m \u001b[38;5;28mself\u001b[39m\u001b[38;5;241m.\u001b[39mssl_context\u001b[38;5;241m.\u001b[39mwrap_socket(\n\u001b[1;32m    437\u001b[0m         \u001b[38;5;28mself\u001b[39m\u001b[38;5;241m.\u001b[39msocket, server_hostname\u001b[38;5;241m=\u001b[39m\u001b[38;5;28mself\u001b[39m\u001b[38;5;241m.\u001b[39mjava_address)\n\u001b[0;32m--> 438\u001b[0m \u001b[38;5;28;43mself\u001b[39;49m\u001b[38;5;241;43m.\u001b[39;49m\u001b[43msocket\u001b[49m\u001b[38;5;241;43m.\u001b[39;49m\u001b[43mconnect\u001b[49m\u001b[43m(\u001b[49m\u001b[43m(\u001b[49m\u001b[38;5;28;43mself\u001b[39;49m\u001b[38;5;241;43m.\u001b[39;49m\u001b[43mjava_address\u001b[49m\u001b[43m,\u001b[49m\u001b[43m \u001b[49m\u001b[38;5;28;43mself\u001b[39;49m\u001b[38;5;241;43m.\u001b[39;49m\u001b[43mjava_port\u001b[49m\u001b[43m)\u001b[49m\u001b[43m)\u001b[49m\n\u001b[1;32m    439\u001b[0m \u001b[38;5;28mself\u001b[39m\u001b[38;5;241m.\u001b[39mstream \u001b[38;5;241m=\u001b[39m \u001b[38;5;28mself\u001b[39m\u001b[38;5;241m.\u001b[39msocket\u001b[38;5;241m.\u001b[39mmakefile(\u001b[38;5;124m\"\u001b[39m\u001b[38;5;124mrb\u001b[39m\u001b[38;5;124m\"\u001b[39m)\n\u001b[1;32m    440\u001b[0m \u001b[38;5;28mself\u001b[39m\u001b[38;5;241m.\u001b[39mis_connected \u001b[38;5;241m=\u001b[39m \u001b[38;5;28;01mTrue\u001b[39;00m\n",
      "\u001b[0;31mConnectionRefusedError\u001b[0m: [Errno 111] Connection refused"
     ]
    }
   ],
   "source": [
    "#Question5 \n",
    "from pyspark.sql import SparkSession\n",
    "from pyspark.sql.functions import explode, col, desc\n",
    "from pyspark.ml.feature import RegexTokenizer, NGram\n",
    "\n",
    "\n",
    "spark5 = SparkSession.builder.appName(\"TrigramAnalysis\").getOrCreate()\n",
    "\n",
    "\n",
    "lines = spark5.read.text(\"shared/hw2/internet_archive_scifi_v3.txt\")\n",
    "\n",
    "lines = spark5.read \\\n",
    "    .option(\"encoding\", \"UTF-8\") \\\n",
    "    .text(\"shared/hw2/internet_archive_scifi_v3.txt\")\n",
    "\n",
    "\n",
    "\n",
    "\n",
    "tokenizer = RegexTokenizer(\n",
    "    inputCol=\"value\",\n",
    "    outputCol=\"words\",\n",
    "    pattern=\"\\\\W+\",   \n",
    "    toLowercase=True   \n",
    ")\n",
    "tokenized = tokenizer.transform(lines)\n",
    "\n",
    "\n",
    "tokenized.select(\"words\").show(5, truncate=False)\n",
    "\n",
    "\n",
    "ngram = NGram(\n",
    "    n=3,\n",
    "    inputCol=\"words\",\n",
    "    outputCol=\"trigrams\"\n",
    ")\n",
    "ngramData = ngram.transform(tokenized)\n",
    "\n",
    "\n",
    "ngramData.select(\"trigrams\").show(5, truncate=False)\n",
    "\n",
    "\n",
    "trigram_df = ngramData.select(explode(col(\"trigrams\")).alias(\"trigram\"))\n",
    "trigram_count = trigram_df.groupBy(\"trigram\").count()\n",
    "\n",
    "\n",
    "trigram_count.orderBy(desc(\"count\")).show(20, truncate=False)\n",
    "\n",
    "\n",
    "top_10_trigrams = trigram_count.orderBy(desc(\"count\")).limit(10)\n",
    "top_10_trigrams.show(truncate=False)\n",
    "\n",
    "\n",
    "spark.stop()\n",
    "\n",
    "\n"
   ]
  },
  {
   "cell_type": "code",
   "execution_count": null,
   "id": "df58a150-263a-42ac-b8df-f297bb5bb306",
   "metadata": {},
   "outputs": [],
   "source": []
  }
 ],
 "metadata": {
  "kernelspec": {
   "display_name": "Python [conda env:bigdata]",
   "language": "python",
   "name": "conda-env-bigdata-py"
  },
  "language_info": {
   "codemirror_mode": {
    "name": "ipython",
    "version": 3
   },
   "file_extension": ".py",
   "mimetype": "text/x-python",
   "name": "python",
   "nbconvert_exporter": "python",
   "pygments_lexer": "ipython3",
   "version": "3.12.9"
  }
 },
 "nbformat": 4,
 "nbformat_minor": 5
}
