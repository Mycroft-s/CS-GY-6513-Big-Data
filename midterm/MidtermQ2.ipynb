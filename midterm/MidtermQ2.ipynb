{
 "cells": [
  {
   "cell_type": "code",
   "execution_count": 2,
   "id": "e472e279-41b7-458d-a347-4e804a8a2ce9",
   "metadata": {},
   "outputs": [],
   "source": [
    "from pyspark.sql import SparkSession\n",
    "from pyspark.sql.functions import (\n",
    "    col, hour, date_format, concat_ws, to_timestamp, count, row_number\n",
    ")\n",
    "from pyspark.sql.window import Window\n",
    "\n",
    "spark = SparkSession.builder.appName(\"MidtermQ2\").getOrCreate()"
   ]
  },
  {
   "cell_type": "code",
   "execution_count": 3,
   "id": "25a2b568-cd05-4df9-b7f7-024fc8cad332",
   "metadata": {},
   "outputs": [
    {
     "name": "stderr",
     "output_type": "stream",
     "text": [
      "                                                                                \r"
     ]
    }
   ],
   "source": [
    "customers_df = spark.read.json(\"customers.json\")\n",
    "orders_df = spark.read.json(\"orders.json\")\n",
    "order_items_df = spark.read.json(\"order_items.json\")\n"
   ]
  },
  {
   "cell_type": "code",
   "execution_count": 4,
   "id": "0a20a844-6080-49a8-99e7-db7f5eab9996",
   "metadata": {},
   "outputs": [
    {
     "name": "stdout",
     "output_type": "stream",
     "text": [
      "root\n",
      " |-- city: string (nullable = true)\n",
      " |-- customer_id: long (nullable = true)\n",
      " |-- email: string (nullable = true)\n",
      " |-- name: string (nullable = true)\n",
      " |-- registration_date: string (nullable = true)\n",
      " |-- tier: string (nullable = true)\n",
      "\n",
      "+------------+-----------+---------------------+----------------+-----------------+------+\n",
      "|city        |customer_id|email                |name            |registration_date|tier  |\n",
      "+------------+-----------+---------------------+----------------+-----------------+------+\n",
      "|New York    |1          |john@example.com     |John Smith      |2022-01-15       |Gold  |\n",
      "|Los Angeles |2          |mary@example.com     |Mary Johnson    |2022-03-20       |Silver|\n",
      "|Chicago     |3          |robert@example.com   |Robert Brown    |2023-02-10       |Bronze|\n",
      "|Houston     |4          |linda@example.com    |Linda Davis     |2021-11-05       |Gold  |\n",
      "|Phoenix     |5          |michael@example.com  |Michael Wilson  |2022-07-22       |Silver|\n",
      "|Philadelphia|6          |elizabeth@example.com|Elizabeth Taylor|2023-04-18       |Bronze|\n",
      "|San Antonio |7          |james@example.com    |James Anderson  |2021-09-30       |Gold  |\n",
      "|San Diego   |8          |patricia@example.com |Patricia Thomas |2022-05-12       |Silver|\n",
      "|Dallas      |9          |richard@example.com  |Richard Martin  |2023-01-25       |Bronze|\n",
      "|San Jose    |10         |jennifer@example.com |Jennifer Clark  |2021-12-03       |Gold  |\n",
      "+------------+-----------+---------------------+----------------+-----------------+------+\n",
      "\n",
      "root\n",
      " |-- categories: array (nullable = true)\n",
      " |    |-- element: string (containsNull = true)\n",
      " |-- customer_id: long (nullable = true)\n",
      " |-- order_date: string (nullable = true)\n",
      " |-- order_id: long (nullable = true)\n",
      " |-- payment_method: string (nullable = true)\n",
      " |-- shipping_method: string (nullable = true)\n",
      " |-- status: string (nullable = true)\n",
      "\n",
      "+--------------------------+-----------+----------+--------+--------------+---------------+----------+\n",
      "|categories                |customer_id|order_date|order_id|payment_method|shipping_method|status    |\n",
      "+--------------------------+-----------+----------+--------+--------------+---------------+----------+\n",
      "|[electronics, home]       |1          |2023-09-01|101     |Credit Card   |Standard       |Completed |\n",
      "|[clothing, accessories]   |2          |2023-09-05|102     |PayPal        |Express        |Completed |\n",
      "|[books, stationery]       |3          |2023-09-10|103     |Credit Card   |Standard       |Processing|\n",
      "|[electronics]             |1          |2023-09-15|104     |Credit Card   |Express        |Completed |\n",
      "|[home, garden]            |5          |2023-09-20|105     |PayPal        |Standard       |Cancelled |\n",
      "|[sports, outdoors]        |7          |2023-09-25|106     |Credit Card   |Express        |Completed |\n",
      "|[beauty, health]          |2          |2023-10-01|107     |PayPal        |Standard       |Processing|\n",
      "|[electronics, accessories]|8          |2023-10-05|108     |Credit Card   |Express        |Completed |\n",
      "|[clothing]                |9          |2023-10-10|109     |PayPal        |Standard       |Cancelled |\n",
      "|[books, electronics]      |10         |2023-10-15|110     |Credit Card   |Express        |Completed |\n",
      "|[home, garden]            |1          |2023-10-20|111     |PayPal        |Standard       |Processing|\n",
      "|[sports, clothing]        |4          |2023-10-25|112     |Credit Card   |Express        |Completed |\n",
      "|[beauty, health]          |6          |2023-11-01|113     |PayPal        |Standard       |Cancelled |\n",
      "|[electronics, home]       |3          |2023-11-05|114     |Credit Card   |Express        |Completed |\n",
      "|[books, stationery]       |5          |2023-11-10|115     |PayPal        |Standard       |Processing|\n",
      "+--------------------------+-----------+----------+--------+--------------+---------------+----------+\n",
      "\n",
      "root\n",
      " |-- order_id: long (nullable = true)\n",
      " |-- product_name: string (nullable = true)\n",
      " |-- quantity: long (nullable = true)\n",
      " |-- unit_price: double (nullable = true)\n",
      "\n",
      "+--------+-----------------+--------+----------+\n",
      "|order_id|product_name     |quantity|unit_price|\n",
      "+--------+-----------------+--------+----------+\n",
      "|101     |iPhone 13        |1       |999.99    |\n",
      "|101     |Desk Lamp        |2       |49.99     |\n",
      "|102     |Designer Jeans   |3       |129.99    |\n",
      "|102     |Leather Wallet   |1       |79.99     |\n",
      "|103     |Python Cookbook  |1       |39.99     |\n",
      "|103     |Fountain Pen     |2       |24.99     |\n",
      "|104     |Bluetooth Speaker|1       |149.99    |\n",
      "|105     |Throw Pillows    |4       |19.99     |\n",
      "|105     |Garden Tools Set |1       |89.99     |\n",
      "|106     |Running Shoes    |1       |119.99    |\n",
      "|106     |Tent             |1       |249.99    |\n",
      "|107     |Face Cream       |2       |29.99     |\n",
      "|107     |Vitamins         |3       |15.99     |\n",
      "|108     |Wireless Earbuds |1       |159.99    |\n",
      "|108     |Phone Case       |2       |24.99     |\n",
      "|109     |T-Shirts         |5       |15.99     |\n",
      "|110     |SQL Guide        |1       |45.99     |\n",
      "|110     |Smart Watch      |1       |299.99    |\n",
      "|111     |Coffee Table     |1       |199.99    |\n",
      "|111     |Plant Pots       |3       |12.99     |\n",
      "+--------+-----------------+--------+----------+\n",
      "only showing top 20 rows\n",
      "\n"
     ]
    }
   ],
   "source": [
    "customers_df.printSchema()\n",
    "customers_df.show(truncate=False)\n",
    "\n",
    "orders_df.printSchema()\n",
    "orders_df.show(truncate=False)\n",
    "\n",
    "order_items_df.printSchema()\n",
    "order_items_df.show(truncate=False)"
   ]
  },
  {
   "cell_type": "code",
   "execution_count": 12,
   "id": "bce064a1-1d8e-4069-a3f2-71951b678768",
   "metadata": {},
   "outputs": [],
   "source": [
    "# 2.1 Customer Spending Analysis\n",
    "# cancel cancelled\n",
    "valid_orders_df = orders_df.filter(orders_df.status != \"Cancelled\")\n"
   ]
  },
  {
   "cell_type": "code",
   "execution_count": 13,
   "id": "dab61fa8-10bc-47a4-863b-e44d4ff42f28",
   "metadata": {},
   "outputs": [
    {
     "name": "stdout",
     "output_type": "stream",
     "text": [
      "+-----------+--------+--------------------------+----------+--------------+---------------+----------+-----------------+--------+----------+-----------+--------------------+---------------+-----------------+------+\n",
      "|customer_id|order_id|categories                |order_date|payment_method|shipping_method|status    |product_name     |quantity|unit_price|city       |email               |name           |registration_date|tier  |\n",
      "+-----------+--------+--------------------------+----------+--------------+---------------+----------+-----------------+--------+----------+-----------+--------------------+---------------+-----------------+------+\n",
      "|1          |101     |[electronics, home]       |2023-09-01|Credit Card   |Standard       |Completed |Desk Lamp        |2       |49.99     |New York   |john@example.com    |John Smith     |2022-01-15       |Gold  |\n",
      "|1          |101     |[electronics, home]       |2023-09-01|Credit Card   |Standard       |Completed |iPhone 13        |1       |999.99    |New York   |john@example.com    |John Smith     |2022-01-15       |Gold  |\n",
      "|2          |102     |[clothing, accessories]   |2023-09-05|PayPal        |Express        |Completed |Leather Wallet   |1       |79.99     |Los Angeles|mary@example.com    |Mary Johnson   |2022-03-20       |Silver|\n",
      "|2          |102     |[clothing, accessories]   |2023-09-05|PayPal        |Express        |Completed |Designer Jeans   |3       |129.99    |Los Angeles|mary@example.com    |Mary Johnson   |2022-03-20       |Silver|\n",
      "|3          |103     |[books, stationery]       |2023-09-10|Credit Card   |Standard       |Processing|Fountain Pen     |2       |24.99     |Chicago    |robert@example.com  |Robert Brown   |2023-02-10       |Bronze|\n",
      "|3          |103     |[books, stationery]       |2023-09-10|Credit Card   |Standard       |Processing|Python Cookbook  |1       |39.99     |Chicago    |robert@example.com  |Robert Brown   |2023-02-10       |Bronze|\n",
      "|1          |104     |[electronics]             |2023-09-15|Credit Card   |Express        |Completed |Bluetooth Speaker|1       |149.99    |New York   |john@example.com    |John Smith     |2022-01-15       |Gold  |\n",
      "|7          |106     |[sports, outdoors]        |2023-09-25|Credit Card   |Express        |Completed |Tent             |1       |249.99    |San Antonio|james@example.com   |James Anderson |2021-09-30       |Gold  |\n",
      "|7          |106     |[sports, outdoors]        |2023-09-25|Credit Card   |Express        |Completed |Running Shoes    |1       |119.99    |San Antonio|james@example.com   |James Anderson |2021-09-30       |Gold  |\n",
      "|2          |107     |[beauty, health]          |2023-10-01|PayPal        |Standard       |Processing|Vitamins         |3       |15.99     |Los Angeles|mary@example.com    |Mary Johnson   |2022-03-20       |Silver|\n",
      "|2          |107     |[beauty, health]          |2023-10-01|PayPal        |Standard       |Processing|Face Cream       |2       |29.99     |Los Angeles|mary@example.com    |Mary Johnson   |2022-03-20       |Silver|\n",
      "|8          |108     |[electronics, accessories]|2023-10-05|Credit Card   |Express        |Completed |Phone Case       |2       |24.99     |San Diego  |patricia@example.com|Patricia Thomas|2022-05-12       |Silver|\n",
      "|8          |108     |[electronics, accessories]|2023-10-05|Credit Card   |Express        |Completed |Wireless Earbuds |1       |159.99    |San Diego  |patricia@example.com|Patricia Thomas|2022-05-12       |Silver|\n",
      "|10         |110     |[books, electronics]      |2023-10-15|Credit Card   |Express        |Completed |Smart Watch      |1       |299.99    |San Jose   |jennifer@example.com|Jennifer Clark |2021-12-03       |Gold  |\n",
      "|10         |110     |[books, electronics]      |2023-10-15|Credit Card   |Express        |Completed |SQL Guide        |1       |45.99     |San Jose   |jennifer@example.com|Jennifer Clark |2021-12-03       |Gold  |\n",
      "|1          |111     |[home, garden]            |2023-10-20|PayPal        |Standard       |Processing|Plant Pots       |3       |12.99     |New York   |john@example.com    |John Smith     |2022-01-15       |Gold  |\n",
      "|1          |111     |[home, garden]            |2023-10-20|PayPal        |Standard       |Processing|Coffee Table     |1       |199.99    |New York   |john@example.com    |John Smith     |2022-01-15       |Gold  |\n",
      "|4          |112     |[sports, clothing]        |2023-10-25|Credit Card   |Express        |Completed |Hoodie           |2       |59.99     |Houston    |linda@example.com   |Linda Davis    |2021-11-05       |Gold  |\n",
      "|4          |112     |[sports, clothing]        |2023-10-25|Credit Card   |Express        |Completed |Yoga Mat         |1       |29.99     |Houston    |linda@example.com   |Linda Davis    |2021-11-05       |Gold  |\n",
      "|3          |114     |[electronics, home]       |2023-11-05|Credit Card   |Express        |Completed |Air Purifier     |1       |189.99    |Chicago    |robert@example.com  |Robert Brown   |2023-02-10       |Bronze|\n",
      "+-----------+--------+--------------------------+----------+--------------+---------------+----------+-----------------+--------+----------+-----------+--------------------+---------------+-----------------+------+\n",
      "only showing top 20 rows\n",
      "\n"
     ]
    }
   ],
   "source": [
    "from pyspark.sql.functions import col\n",
    "valid_orders_items_df = valid_orders_df.join(order_items_df, \"order_id\", \"inner\")\n",
    "\n",
    "full_df = valid_orders_items_df.join(customers_df, \"customer_id\", \"inner\")\n",
    "\n",
    "full_df.show(truncate=False)\n"
   ]
  },
  {
   "cell_type": "code",
   "execution_count": 14,
   "id": "eeab7a95-ba45-4de3-8b25-c0ce3acdd71f",
   "metadata": {},
   "outputs": [],
   "source": [
    "from pyspark.sql.functions import sum as _sum\n",
    "full_df = full_df.withColumn(\"item_total\", col(\"quantity\") * col(\"unit_price\"))\n",
    "\n",
    "customer_spending_df = full_df.groupBy(\"customer_id\") \\\n",
    "    .agg(_sum(\"item_total\").alias(\"total_spent\"))"
   ]
  },
  {
   "cell_type": "code",
   "execution_count": 15,
   "id": "827ead2e-0e70-42b3-b012-fda2ece46ea6",
   "metadata": {},
   "outputs": [
    {
     "name": "stdout",
     "output_type": "stream",
     "text": [
      "+-----------+-----------------+\n",
      "|customer_id|total_spent      |\n",
      "+-----------+-----------------+\n",
      "|1          |1488.92          |\n",
      "|3          |679.95           |\n",
      "|2          |577.9100000000001|\n",
      "|7          |369.98           |\n",
      "|10         |345.98           |\n",
      "|8          |209.97           |\n",
      "|4          |149.97           |\n",
      "|5          |62.95            |\n",
      "+-----------+-----------------+\n",
      "\n"
     ]
    }
   ],
   "source": [
    "from pyspark.sql.functions import desc\n",
    "top_spenders_df = customer_spending_df.orderBy(desc(\"total_spent\"))\n",
    "top_spenders_df.show(truncate=False)\n",
    "# result: customer_id 1 spend the most money overall"
   ]
  },
  {
   "cell_type": "code",
   "execution_count": 16,
   "id": "ebf51df3-2c25-4f37-ae6d-aa8e823b1cd3",
   "metadata": {},
   "outputs": [
    {
     "name": "stdout",
     "output_type": "stream",
     "text": [
      "+------+-----------+--------------+\n",
      "|tier  |category   |purchase_count|\n",
      "+------+-----------+--------------+\n",
      "|Bronze|books      |2             |\n",
      "|Bronze|electronics|2             |\n",
      "|Bronze|home       |2             |\n",
      "|Bronze|stationery |2             |\n",
      "|Gold  |electronics|5             |\n",
      "|Gold  |home       |4             |\n",
      "|Gold  |sports     |4             |\n",
      "|Gold  |garden     |2             |\n",
      "|Gold  |clothing   |2             |\n",
      "|Gold  |outdoors   |2             |\n",
      "|Gold  |books      |2             |\n",
      "|Silver|accessories|4             |\n",
      "|Silver|clothing   |2             |\n",
      "|Silver|health     |2             |\n",
      "|Silver|beauty     |2             |\n",
      "|Silver|electronics|2             |\n",
      "|Silver|books      |2             |\n",
      "|Silver|stationery |2             |\n",
      "+------+-----------+--------------+\n",
      "\n"
     ]
    }
   ],
   "source": [
    "#2.2 Category Preference Analysis\n",
    "#Compute the most popular product categories for each customer tier (Gold, Silver, Bronze)\n",
    "import pyspark.sql.functions as F\n",
    "from pyspark.sql.types import StringType, ArrayType\n",
    "\n",
    "exploded_df = full_df.withColumn(\"category\", F.explode(col(\"categories\")))\n",
    "\n",
    "#count\n",
    "tier_category_count_df = exploded_df.groupBy(\"tier\", \"category\") \\\n",
    "    .agg(F.count(\"*\").alias(\"purchase_count\"))\n",
    "\n",
    "tier_category_count_df.orderBy(\"tier\", F.desc(\"purchase_count\")).show(truncate=False)\n"
   ]
  },
  {
   "cell_type": "code",
   "execution_count": 20,
   "id": "61b722aa-619c-42d4-a067-98e9bec20454",
   "metadata": {},
   "outputs": [
    {
     "name": "stdout",
     "output_type": "stream",
     "text": [
      "+------+-----------+--------------+----+\n",
      "|tier  |category   |purchase_count|rank|\n",
      "+------+-----------+--------------+----+\n",
      "|Bronze|books      |2             |1   |\n",
      "|Bronze|electronics|2             |1   |\n",
      "|Bronze|home       |2             |1   |\n",
      "|Bronze|stationery |2             |1   |\n",
      "|Gold  |electronics|5             |1   |\n",
      "|Silver|accessories|4             |1   |\n",
      "+------+-----------+--------------+----+\n",
      "\n"
     ]
    }
   ],
   "source": [
    "from pyspark.sql.window import Window\n",
    "\n",
    "windowSpec = Window.partitionBy(\"tier\").orderBy(F.desc(\"purchase_count\"))\n",
    "ranked_df = tier_category_count_df.withColumn(\"rank\", F.rank().over(windowSpec))\n",
    "top_cats_each_tier_df = ranked_df.filter(ranked_df.rank == 1)\n",
    "\n",
    "top_cats_each_tier_df.show(truncate=False)\n",
    "#the most popular product categories：\n",
    "#bronze: books, electronics, home, stationery\n",
    "#gold: electronics\n",
    "#silver: accessories"
   ]
  },
  {
   "cell_type": "code",
   "execution_count": 21,
   "id": "cbfbf74b-244d-41ad-b0c8-42c1fc4c9754",
   "metadata": {},
   "outputs": [],
   "source": [
    "#2.3 Price Range Preferences\n",
    "#Show how different customer tiers distribute their spending across budget, \n",
    "#mid-range, and premium products, i.e. whether Gold tier customers buy more premium products than Silver or Bronze customers\n",
    "\n",
    "price_range_df = full_df.withColumn(\n",
    "    \"price_range\",\n",
    "    F.when(col(\"unit_price\") < 50, \"Budget\")\n",
    "     .when(col(\"unit_price\") < 200, \"Mid-range\")\n",
    "     .otherwise(\"Premium\")\n",
    ")"
   ]
  },
  {
   "cell_type": "code",
   "execution_count": 22,
   "id": "f0fda4af-a16a-4116-9f48-3fb2bff62299",
   "metadata": {},
   "outputs": [
    {
     "name": "stdout",
     "output_type": "stream",
     "text": [
      "+------+-----------+------------------+----------+\n",
      "|  tier|price_range|      spend_amount|item_count|\n",
      "+------+-----------+------------------+----------+\n",
      "|Bronze|    Premium|            399.99|         1|\n",
      "|Bronze|  Mid-range|            189.99|         1|\n",
      "|  Gold|     Budget|            214.93|         4|\n",
      "|  Gold|    Premium|           1549.97|         3|\n",
      "|  Gold|  Mid-range|            589.95|         4|\n",
      "|Silver|     Budget|220.87999999999997|         5|\n",
      "|Bronze|     Budget|             89.97|         2|\n",
      "|Silver|  Mid-range|            629.95|         3|\n",
      "+------+-----------+------------------+----------+\n",
      "\n"
     ]
    }
   ],
   "source": [
    "range_pref_df = price_range_df.groupBy(\"tier\", \"price_range\") \\\n",
    "    .agg(F.sum(\"item_total\").alias(\"spend_amount\"),\n",
    "         F.count(\"*\").alias(\"item_count\"))  \n",
    "\n",
    "range_pref_df.show()"
   ]
  },
  {
   "cell_type": "code",
   "execution_count": 24,
   "id": "62b52505-59ed-4ebc-a7f5-43df3aa86f21",
   "metadata": {},
   "outputs": [],
   "source": [
    "#Result (2.3 Price Range Preferences)\n",
    "#Bronze: Small purchases in all ranges; one Premium purchase (399.99).\n",
    "#Gold: Highest Premium spending (1549.97), also some Mid-range and Budget.\n",
    "#Silver: No Premium, moderate Mid-range (629.95) and Budget (220.88).\n",
    "#This indicates Gold leans toward high-end items, Silver focuses on mid- and lower-priced goods,\n",
    "#and Bronze spreads minimal spending across all ranges.\n",
    "\n",
    "#whether Gold tier customers buy more premium products than Silver or Bronze customers？\n",
    "#yes. Based on the results, Gold tier customers clearly spend more on Premium products. \n",
    "#They recorded a premium spend of 1549.97, whereas Bronze customers only spent 399.99 and Silver customers did not record any premium spending.\n",
    "#This strongly suggests that Gold tier customers buy more premium products than Silver or Bronze tiers."
   ]
  },
  {
   "cell_type": "code",
   "execution_count": 30,
   "id": "8777a6e6-e549-41f4-ac6b-15863ac715a5",
   "metadata": {},
   "outputs": [
    {
     "name": "stdout",
     "output_type": "stream",
     "text": [
      "+-----------+-----------------+------+------------+\n",
      "|customer_id|total_spent      |tier  |rank_in_tier|\n",
      "+-----------+-----------------+------+------------+\n",
      "|3          |679.95           |Bronze|1           |\n",
      "|1          |1488.92          |Gold  |1           |\n",
      "|7          |369.98           |Gold  |2           |\n",
      "|2          |577.9100000000001|Silver|1           |\n",
      "|8          |209.97           |Silver|2           |\n",
      "+-----------+-----------------+------+------------+\n",
      "\n"
     ]
    }
   ],
   "source": [
    "from pyspark.sql import functions as F\n",
    "from pyspark.sql.window import Window\n",
    "customer_spending_df = full_df.groupBy(\"customer_id\").agg(F.sum(\"item_total\").alias(\"total_spent\"))\n",
    "spending_with_tier_df = customer_spending_df.join(customers_df.select(\"customer_id\", \"tier\"), on=\"customer_id\", how=\"left\")\n",
    "windowSpec = Window.partitionBy(\"tier\").orderBy(F.desc(\"total_spent\"))\n",
    "ranked_df = spending_with_tier_df.withColumn(\"rank_in_tier\", F.rank().over(windowSpec))\n",
    "top2_each_tier_df = ranked_df.filter(F.col(\"rank_in_tier\") <= 2)\n",
    "top2_each_tier_df.show(truncate=False)\n"
   ]
  },
  {
   "cell_type": "code",
   "execution_count": 31,
   "id": "e15c9dcd-37e0-4384-a8dd-53dd91935a63",
   "metadata": {},
   "outputs": [],
   "source": [
    "#Bronze: Only one customer (customer_id 3 with 679.95) appears, which is acceptable if there’s only one Bronze customer in the dataset.\n",
    "#Gold: Customer_id 1 (1488.92) ranks first and customer_id 7 (369.98) ranks second.\n",
    "#Silver: Customer_id 2 (577.91) is ranked first and customer_id 8 (209.97) is ranked second."
   ]
  },
  {
   "cell_type": "code",
   "execution_count": null,
   "id": "5dae81b6-94cc-4d52-a04f-72998fdf4b23",
   "metadata": {},
   "outputs": [],
   "source": []
  }
 ],
 "metadata": {
  "kernelspec": {
   "display_name": "Python [conda env:bigdata]",
   "language": "python",
   "name": "conda-env-bigdata-py"
  },
  "language_info": {
   "codemirror_mode": {
    "name": "ipython",
    "version": 3
   },
   "file_extension": ".py",
   "mimetype": "text/x-python",
   "name": "python",
   "nbconvert_exporter": "python",
   "pygments_lexer": "ipython3",
   "version": "3.12.9"
  }
 },
 "nbformat": 4,
 "nbformat_minor": 5
}
